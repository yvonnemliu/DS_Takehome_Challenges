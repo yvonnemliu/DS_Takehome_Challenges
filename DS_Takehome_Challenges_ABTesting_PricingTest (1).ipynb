{
  "cells": [
    {
      "cell_type": "markdown",
      "id": "45b9f138",
      "metadata": {
        "id": "45b9f138"
      },
      "source": [
        "## Import Modules"
      ]
    },
    {
      "cell_type": "code",
      "execution_count": 1,
      "id": "8cf78e0a",
      "metadata": {
        "colab": {
          "base_uri": "https://localhost:8080/"
        },
        "id": "8cf78e0a",
        "outputId": "e00876dc-b29a-4898-8301-bd1771239af0"
      },
      "outputs": [
        {
          "output_type": "stream",
          "name": "stdout",
          "text": [
            "Authenticated\n",
            "Drive already mounted at /content/drive; to attempt to forcibly remount, call drive.mount(\"/content/drive\", force_remount=True).\n",
            "Drive Authenticated\n"
          ]
        }
      ],
      "source": [
        "import datetime as dt\n",
        "import random as rd\n",
        "import pandas as pd\n",
        "import numpy as np\n",
        "import seaborn as sns\n",
        "import matplotlib.pyplot as plt\n",
        "import math\n",
        "from IPython.core.pylabtools import figsize\n",
        "from sklearn.preprocessing import LabelEncoder\n",
        "from sklearn.feature_selection import chi2\n",
        "import graphviz\n",
        "from sklearn.tree import DecisionTreeClassifier\n",
        "from sklearn.tree import export_graphviz\n",
        "from graphviz import Source\n",
        "from scipy import stats\n",
        "\n",
        "\n",
        "sns.set_style('whitegrid')\n",
        "figsize(20, 5)\n",
        "plt.rcParams.update({'font.size': 10})\n",
        "\n",
        "\n",
        "from google.cloud import bigquery\n",
        "from google.colab import auth, drive, files\n",
        "from oauth2client.client import GoogleCredentials\n",
        "\n",
        "auth.authenticate_user() # Authenticates Access \n",
        "print('Authenticated') \n",
        "drive.mount('/content/drive') # Authenticates access to google drive. Useful for downloading data already on the drive\n",
        "print(\"Drive Authenticated\")\n"
      ]
    },
    {
      "cell_type": "markdown",
      "id": "c146ff8a",
      "metadata": {
        "id": "c146ff8a"
      },
      "source": [
        "## Gathering Data"
      ]
    },
    {
      "cell_type": "code",
      "execution_count": 2,
      "id": "ba37373e",
      "metadata": {
        "id": "ba37373e"
      },
      "outputs": [],
      "source": [
        "test = pd.read_csv('drive/MyDrive/Pricing_Test/test_results.csv')\n",
        "user = pd.read_csv('drive/MyDrive/Pricing_Test/user_table.csv')"
      ]
    },
    {
      "cell_type": "markdown",
      "source": [
        "## Assessing Data"
      ],
      "metadata": {
        "id": "qBm_eb2qrNYD"
      },
      "id": "qBm_eb2qrNYD"
    },
    {
      "cell_type": "code",
      "source": [
        "test.head()"
      ],
      "metadata": {
        "id": "5gaWsJiqdNmB",
        "colab": {
          "base_uri": "https://localhost:8080/",
          "height": 206
        },
        "outputId": "45d86437-060f-4908-9c50-da6cf4a1d322"
      },
      "id": "5gaWsJiqdNmB",
      "execution_count": 3,
      "outputs": [
        {
          "output_type": "execute_result",
          "data": {
            "text/html": [
              "\n",
              "  <div id=\"df-3f830ede-d3ed-4174-a7be-a055dc2c555f\">\n",
              "    <div class=\"colab-df-container\">\n",
              "      <div>\n",
              "<style scoped>\n",
              "    .dataframe tbody tr th:only-of-type {\n",
              "        vertical-align: middle;\n",
              "    }\n",
              "\n",
              "    .dataframe tbody tr th {\n",
              "        vertical-align: top;\n",
              "    }\n",
              "\n",
              "    .dataframe thead th {\n",
              "        text-align: right;\n",
              "    }\n",
              "</style>\n",
              "<table border=\"1\" class=\"dataframe\">\n",
              "  <thead>\n",
              "    <tr style=\"text-align: right;\">\n",
              "      <th></th>\n",
              "      <th>user_id</th>\n",
              "      <th>timestamp</th>\n",
              "      <th>source</th>\n",
              "      <th>device</th>\n",
              "      <th>operative_system</th>\n",
              "      <th>test</th>\n",
              "      <th>price</th>\n",
              "      <th>converted</th>\n",
              "    </tr>\n",
              "  </thead>\n",
              "  <tbody>\n",
              "    <tr>\n",
              "      <th>0</th>\n",
              "      <td>604839</td>\n",
              "      <td>2015-05-08 03:38:34</td>\n",
              "      <td>ads_facebook</td>\n",
              "      <td>mobile</td>\n",
              "      <td>iOS</td>\n",
              "      <td>0</td>\n",
              "      <td>39</td>\n",
              "      <td>0</td>\n",
              "    </tr>\n",
              "    <tr>\n",
              "      <th>1</th>\n",
              "      <td>624057</td>\n",
              "      <td>2015-05-10 21:08:46</td>\n",
              "      <td>seo-google</td>\n",
              "      <td>mobile</td>\n",
              "      <td>android</td>\n",
              "      <td>0</td>\n",
              "      <td>39</td>\n",
              "      <td>0</td>\n",
              "    </tr>\n",
              "    <tr>\n",
              "      <th>2</th>\n",
              "      <td>317970</td>\n",
              "      <td>2015-04-04 15:01:23</td>\n",
              "      <td>ads-bing</td>\n",
              "      <td>mobile</td>\n",
              "      <td>android</td>\n",
              "      <td>0</td>\n",
              "      <td>39</td>\n",
              "      <td>0</td>\n",
              "    </tr>\n",
              "    <tr>\n",
              "      <th>3</th>\n",
              "      <td>685636</td>\n",
              "      <td>2015-05-07 07:26:01</td>\n",
              "      <td>direct_traffic</td>\n",
              "      <td>mobile</td>\n",
              "      <td>iOS</td>\n",
              "      <td>1</td>\n",
              "      <td>59</td>\n",
              "      <td>0</td>\n",
              "    </tr>\n",
              "    <tr>\n",
              "      <th>4</th>\n",
              "      <td>820854</td>\n",
              "      <td>2015-05-24 11:04:40</td>\n",
              "      <td>ads_facebook</td>\n",
              "      <td>web</td>\n",
              "      <td>mac</td>\n",
              "      <td>0</td>\n",
              "      <td>39</td>\n",
              "      <td>0</td>\n",
              "    </tr>\n",
              "  </tbody>\n",
              "</table>\n",
              "</div>\n",
              "      <button class=\"colab-df-convert\" onclick=\"convertToInteractive('df-3f830ede-d3ed-4174-a7be-a055dc2c555f')\"\n",
              "              title=\"Convert this dataframe to an interactive table.\"\n",
              "              style=\"display:none;\">\n",
              "        \n",
              "  <svg xmlns=\"http://www.w3.org/2000/svg\" height=\"24px\"viewBox=\"0 0 24 24\"\n",
              "       width=\"24px\">\n",
              "    <path d=\"M0 0h24v24H0V0z\" fill=\"none\"/>\n",
              "    <path d=\"M18.56 5.44l.94 2.06.94-2.06 2.06-.94-2.06-.94-.94-2.06-.94 2.06-2.06.94zm-11 1L8.5 8.5l.94-2.06 2.06-.94-2.06-.94L8.5 2.5l-.94 2.06-2.06.94zm10 10l.94 2.06.94-2.06 2.06-.94-2.06-.94-.94-2.06-.94 2.06-2.06.94z\"/><path d=\"M17.41 7.96l-1.37-1.37c-.4-.4-.92-.59-1.43-.59-.52 0-1.04.2-1.43.59L10.3 9.45l-7.72 7.72c-.78.78-.78 2.05 0 2.83L4 21.41c.39.39.9.59 1.41.59.51 0 1.02-.2 1.41-.59l7.78-7.78 2.81-2.81c.8-.78.8-2.07 0-2.86zM5.41 20L4 18.59l7.72-7.72 1.47 1.35L5.41 20z\"/>\n",
              "  </svg>\n",
              "      </button>\n",
              "      \n",
              "  <style>\n",
              "    .colab-df-container {\n",
              "      display:flex;\n",
              "      flex-wrap:wrap;\n",
              "      gap: 12px;\n",
              "    }\n",
              "\n",
              "    .colab-df-convert {\n",
              "      background-color: #E8F0FE;\n",
              "      border: none;\n",
              "      border-radius: 50%;\n",
              "      cursor: pointer;\n",
              "      display: none;\n",
              "      fill: #1967D2;\n",
              "      height: 32px;\n",
              "      padding: 0 0 0 0;\n",
              "      width: 32px;\n",
              "    }\n",
              "\n",
              "    .colab-df-convert:hover {\n",
              "      background-color: #E2EBFA;\n",
              "      box-shadow: 0px 1px 2px rgba(60, 64, 67, 0.3), 0px 1px 3px 1px rgba(60, 64, 67, 0.15);\n",
              "      fill: #174EA6;\n",
              "    }\n",
              "\n",
              "    [theme=dark] .colab-df-convert {\n",
              "      background-color: #3B4455;\n",
              "      fill: #D2E3FC;\n",
              "    }\n",
              "\n",
              "    [theme=dark] .colab-df-convert:hover {\n",
              "      background-color: #434B5C;\n",
              "      box-shadow: 0px 1px 3px 1px rgba(0, 0, 0, 0.15);\n",
              "      filter: drop-shadow(0px 1px 2px rgba(0, 0, 0, 0.3));\n",
              "      fill: #FFFFFF;\n",
              "    }\n",
              "  </style>\n",
              "\n",
              "      <script>\n",
              "        const buttonEl =\n",
              "          document.querySelector('#df-3f830ede-d3ed-4174-a7be-a055dc2c555f button.colab-df-convert');\n",
              "        buttonEl.style.display =\n",
              "          google.colab.kernel.accessAllowed ? 'block' : 'none';\n",
              "\n",
              "        async function convertToInteractive(key) {\n",
              "          const element = document.querySelector('#df-3f830ede-d3ed-4174-a7be-a055dc2c555f');\n",
              "          const dataTable =\n",
              "            await google.colab.kernel.invokeFunction('convertToInteractive',\n",
              "                                                     [key], {});\n",
              "          if (!dataTable) return;\n",
              "\n",
              "          const docLinkHtml = 'Like what you see? Visit the ' +\n",
              "            '<a target=\"_blank\" href=https://colab.research.google.com/notebooks/data_table.ipynb>data table notebook</a>'\n",
              "            + ' to learn more about interactive tables.';\n",
              "          element.innerHTML = '';\n",
              "          dataTable['output_type'] = 'display_data';\n",
              "          await google.colab.output.renderOutput(dataTable, element);\n",
              "          const docLink = document.createElement('div');\n",
              "          docLink.innerHTML = docLinkHtml;\n",
              "          element.appendChild(docLink);\n",
              "        }\n",
              "      </script>\n",
              "    </div>\n",
              "  </div>\n",
              "  "
            ],
            "text/plain": [
              "   user_id            timestamp          source  ... test price  converted\n",
              "0   604839  2015-05-08 03:38:34    ads_facebook  ...    0    39          0\n",
              "1   624057  2015-05-10 21:08:46      seo-google  ...    0    39          0\n",
              "2   317970  2015-04-04 15:01:23        ads-bing  ...    0    39          0\n",
              "3   685636  2015-05-07 07:26:01  direct_traffic  ...    1    59          0\n",
              "4   820854  2015-05-24 11:04:40    ads_facebook  ...    0    39          0\n",
              "\n",
              "[5 rows x 8 columns]"
            ]
          },
          "metadata": {},
          "execution_count": 3
        }
      ]
    },
    {
      "cell_type": "code",
      "source": [
        "user.head()"
      ],
      "metadata": {
        "colab": {
          "base_uri": "https://localhost:8080/",
          "height": 206
        },
        "id": "COqYwf18dO06",
        "outputId": "16c1eda1-a8d3-4aae-a2b3-6211e3a33cc0"
      },
      "id": "COqYwf18dO06",
      "execution_count": 4,
      "outputs": [
        {
          "output_type": "execute_result",
          "data": {
            "text/html": [
              "\n",
              "  <div id=\"df-4822f8be-10e6-47cc-9866-ac6333d1cef0\">\n",
              "    <div class=\"colab-df-container\">\n",
              "      <div>\n",
              "<style scoped>\n",
              "    .dataframe tbody tr th:only-of-type {\n",
              "        vertical-align: middle;\n",
              "    }\n",
              "\n",
              "    .dataframe tbody tr th {\n",
              "        vertical-align: top;\n",
              "    }\n",
              "\n",
              "    .dataframe thead th {\n",
              "        text-align: right;\n",
              "    }\n",
              "</style>\n",
              "<table border=\"1\" class=\"dataframe\">\n",
              "  <thead>\n",
              "    <tr style=\"text-align: right;\">\n",
              "      <th></th>\n",
              "      <th>user_id</th>\n",
              "      <th>city</th>\n",
              "      <th>country</th>\n",
              "      <th>lat</th>\n",
              "      <th>long</th>\n",
              "    </tr>\n",
              "  </thead>\n",
              "  <tbody>\n",
              "    <tr>\n",
              "      <th>0</th>\n",
              "      <td>510335</td>\n",
              "      <td>Peabody</td>\n",
              "      <td>USA</td>\n",
              "      <td>42.53</td>\n",
              "      <td>-70.97</td>\n",
              "    </tr>\n",
              "    <tr>\n",
              "      <th>1</th>\n",
              "      <td>89568</td>\n",
              "      <td>Reno</td>\n",
              "      <td>USA</td>\n",
              "      <td>39.54</td>\n",
              "      <td>-119.82</td>\n",
              "    </tr>\n",
              "    <tr>\n",
              "      <th>2</th>\n",
              "      <td>434134</td>\n",
              "      <td>Rialto</td>\n",
              "      <td>USA</td>\n",
              "      <td>34.11</td>\n",
              "      <td>-117.39</td>\n",
              "    </tr>\n",
              "    <tr>\n",
              "      <th>3</th>\n",
              "      <td>289769</td>\n",
              "      <td>Carson City</td>\n",
              "      <td>USA</td>\n",
              "      <td>39.15</td>\n",
              "      <td>-119.74</td>\n",
              "    </tr>\n",
              "    <tr>\n",
              "      <th>4</th>\n",
              "      <td>939586</td>\n",
              "      <td>Chicago</td>\n",
              "      <td>USA</td>\n",
              "      <td>41.84</td>\n",
              "      <td>-87.68</td>\n",
              "    </tr>\n",
              "  </tbody>\n",
              "</table>\n",
              "</div>\n",
              "      <button class=\"colab-df-convert\" onclick=\"convertToInteractive('df-4822f8be-10e6-47cc-9866-ac6333d1cef0')\"\n",
              "              title=\"Convert this dataframe to an interactive table.\"\n",
              "              style=\"display:none;\">\n",
              "        \n",
              "  <svg xmlns=\"http://www.w3.org/2000/svg\" height=\"24px\"viewBox=\"0 0 24 24\"\n",
              "       width=\"24px\">\n",
              "    <path d=\"M0 0h24v24H0V0z\" fill=\"none\"/>\n",
              "    <path d=\"M18.56 5.44l.94 2.06.94-2.06 2.06-.94-2.06-.94-.94-2.06-.94 2.06-2.06.94zm-11 1L8.5 8.5l.94-2.06 2.06-.94-2.06-.94L8.5 2.5l-.94 2.06-2.06.94zm10 10l.94 2.06.94-2.06 2.06-.94-2.06-.94-.94-2.06-.94 2.06-2.06.94z\"/><path d=\"M17.41 7.96l-1.37-1.37c-.4-.4-.92-.59-1.43-.59-.52 0-1.04.2-1.43.59L10.3 9.45l-7.72 7.72c-.78.78-.78 2.05 0 2.83L4 21.41c.39.39.9.59 1.41.59.51 0 1.02-.2 1.41-.59l7.78-7.78 2.81-2.81c.8-.78.8-2.07 0-2.86zM5.41 20L4 18.59l7.72-7.72 1.47 1.35L5.41 20z\"/>\n",
              "  </svg>\n",
              "      </button>\n",
              "      \n",
              "  <style>\n",
              "    .colab-df-container {\n",
              "      display:flex;\n",
              "      flex-wrap:wrap;\n",
              "      gap: 12px;\n",
              "    }\n",
              "\n",
              "    .colab-df-convert {\n",
              "      background-color: #E8F0FE;\n",
              "      border: none;\n",
              "      border-radius: 50%;\n",
              "      cursor: pointer;\n",
              "      display: none;\n",
              "      fill: #1967D2;\n",
              "      height: 32px;\n",
              "      padding: 0 0 0 0;\n",
              "      width: 32px;\n",
              "    }\n",
              "\n",
              "    .colab-df-convert:hover {\n",
              "      background-color: #E2EBFA;\n",
              "      box-shadow: 0px 1px 2px rgba(60, 64, 67, 0.3), 0px 1px 3px 1px rgba(60, 64, 67, 0.15);\n",
              "      fill: #174EA6;\n",
              "    }\n",
              "\n",
              "    [theme=dark] .colab-df-convert {\n",
              "      background-color: #3B4455;\n",
              "      fill: #D2E3FC;\n",
              "    }\n",
              "\n",
              "    [theme=dark] .colab-df-convert:hover {\n",
              "      background-color: #434B5C;\n",
              "      box-shadow: 0px 1px 3px 1px rgba(0, 0, 0, 0.15);\n",
              "      filter: drop-shadow(0px 1px 2px rgba(0, 0, 0, 0.3));\n",
              "      fill: #FFFFFF;\n",
              "    }\n",
              "  </style>\n",
              "\n",
              "      <script>\n",
              "        const buttonEl =\n",
              "          document.querySelector('#df-4822f8be-10e6-47cc-9866-ac6333d1cef0 button.colab-df-convert');\n",
              "        buttonEl.style.display =\n",
              "          google.colab.kernel.accessAllowed ? 'block' : 'none';\n",
              "\n",
              "        async function convertToInteractive(key) {\n",
              "          const element = document.querySelector('#df-4822f8be-10e6-47cc-9866-ac6333d1cef0');\n",
              "          const dataTable =\n",
              "            await google.colab.kernel.invokeFunction('convertToInteractive',\n",
              "                                                     [key], {});\n",
              "          if (!dataTable) return;\n",
              "\n",
              "          const docLinkHtml = 'Like what you see? Visit the ' +\n",
              "            '<a target=\"_blank\" href=https://colab.research.google.com/notebooks/data_table.ipynb>data table notebook</a>'\n",
              "            + ' to learn more about interactive tables.';\n",
              "          element.innerHTML = '';\n",
              "          dataTable['output_type'] = 'display_data';\n",
              "          await google.colab.output.renderOutput(dataTable, element);\n",
              "          const docLink = document.createElement('div');\n",
              "          docLink.innerHTML = docLinkHtml;\n",
              "          element.appendChild(docLink);\n",
              "        }\n",
              "      </script>\n",
              "    </div>\n",
              "  </div>\n",
              "  "
            ],
            "text/plain": [
              "   user_id         city country    lat    long\n",
              "0   510335      Peabody     USA  42.53  -70.97\n",
              "1    89568         Reno     USA  39.54 -119.82\n",
              "2   434134       Rialto     USA  34.11 -117.39\n",
              "3   289769  Carson City     USA  39.15 -119.74\n",
              "4   939586      Chicago     USA  41.84  -87.68"
            ]
          },
          "metadata": {},
          "execution_count": 4
        }
      ]
    },
    {
      "cell_type": "code",
      "source": [
        "# calculate the number of rows of the \"test\" dataset and the \"user\" dataset.\n",
        "test.shape[0], user.shape[0]"
      ],
      "metadata": {
        "colab": {
          "base_uri": "https://localhost:8080/"
        },
        "id": "rIkPhVFBdibc",
        "outputId": "d6cc033d-f0ac-4029-c0f4-5e3b36cde912"
      },
      "id": "rIkPhVFBdibc",
      "execution_count": 5,
      "outputs": [
        {
          "output_type": "execute_result",
          "data": {
            "text/plain": [
              "(316800, 275616)"
            ]
          },
          "metadata": {},
          "execution_count": 5
        }
      ]
    },
    {
      "cell_type": "code",
      "source": [
        "(test.shape[0] - user.shape[0])/test.shape[0]"
      ],
      "metadata": {
        "colab": {
          "base_uri": "https://localhost:8080/"
        },
        "id": "VPrYMOf1e8Ms",
        "outputId": "6813f124-62e0-42e2-aecd-c29bb9862f2c"
      },
      "id": "VPrYMOf1e8Ms",
      "execution_count": 6,
      "outputs": [
        {
          "output_type": "execute_result",
          "data": {
            "text/plain": [
              "0.13"
            ]
          },
          "metadata": {},
          "execution_count": 6
        }
      ]
    },
    {
      "cell_type": "code",
      "source": [
        "test.shape[0]-test.user_id.nunique(), user.shape[0]-user.user_id.nunique()"
      ],
      "metadata": {
        "colab": {
          "base_uri": "https://localhost:8080/"
        },
        "id": "0baFf25wdmgA",
        "outputId": "87d16051-3cac-4914-a31b-0c8073670f9d"
      },
      "id": "0baFf25wdmgA",
      "execution_count": 7,
      "outputs": [
        {
          "output_type": "execute_result",
          "data": {
            "text/plain": [
              "(0, 0)"
            ]
          },
          "metadata": {},
          "execution_count": 7
        }
      ]
    },
    {
      "cell_type": "markdown",
      "source": [
        "Based on the analysis above, we have two findings:\n",
        "* There are some missing user ids in the \"user\" dataset, making up for 13% of the total 316.8k rows. \n",
        "\n",
        "* Neither of the datasets have duplicate user ids."
      ],
      "metadata": {
        "id": "RUJBEB9Czfoh"
      },
      "id": "RUJBEB9Czfoh"
    },
    {
      "cell_type": "markdown",
      "source": [
        "Next, we would like to merge the two datasets. "
      ],
      "metadata": {
        "id": "oMgzcN9MtS37"
      },
      "id": "oMgzcN9MtS37"
    },
    {
      "cell_type": "code",
      "source": [
        "df = pd.merge(test,  \n",
        "                     user,  \n",
        "                     on ='user_id',  \n",
        "                     how ='outer')"
      ],
      "metadata": {
        "id": "2iy3Y-GDepk0"
      },
      "id": "2iy3Y-GDepk0",
      "execution_count": 8,
      "outputs": []
    },
    {
      "cell_type": "code",
      "source": [
        "df.info()"
      ],
      "metadata": {
        "colab": {
          "base_uri": "https://localhost:8080/"
        },
        "id": "DDoAGKPbfmya",
        "outputId": "220e46f8-4d36-4382-f9bd-1aad55f1a95e"
      },
      "id": "DDoAGKPbfmya",
      "execution_count": 9,
      "outputs": [
        {
          "output_type": "stream",
          "name": "stdout",
          "text": [
            "<class 'pandas.core.frame.DataFrame'>\n",
            "Int64Index: 316800 entries, 0 to 316799\n",
            "Data columns (total 12 columns):\n",
            " #   Column            Non-Null Count   Dtype  \n",
            "---  ------            --------------   -----  \n",
            " 0   user_id           316800 non-null  int64  \n",
            " 1   timestamp         316800 non-null  object \n",
            " 2   source            316800 non-null  object \n",
            " 3   device            316800 non-null  object \n",
            " 4   operative_system  316800 non-null  object \n",
            " 5   test              316800 non-null  int64  \n",
            " 6   price             316800 non-null  int64  \n",
            " 7   converted         316800 non-null  int64  \n",
            " 8   city              275616 non-null  object \n",
            " 9   country           275616 non-null  object \n",
            " 10  lat               275616 non-null  float64\n",
            " 11  long              275616 non-null  float64\n",
            "dtypes: float64(2), int64(4), object(6)\n",
            "memory usage: 31.4+ MB\n"
          ]
        }
      ]
    },
    {
      "cell_type": "code",
      "source": [
        "df.city = df.city.fillna('Not identified') \n",
        "df.country = df.country.fillna('Not identified') "
      ],
      "metadata": {
        "id": "1gE3k-WQfJwg"
      },
      "id": "1gE3k-WQfJwg",
      "execution_count": 10,
      "outputs": []
    },
    {
      "cell_type": "code",
      "source": [
        "# create a new column \"category\". If the user_id is missing in the \"user\" table, the \"category\" column displays 0. If the user_id is not missing, it displays 1.\n",
        "df['signal1'] = (df['city'] == 'Not identified')\n",
        "df.loc[df['signal1'] == 1, 'category'] = 0\n",
        "df.loc[df['signal1'] == 0, 'category'] = 1"
      ],
      "metadata": {
        "id": "kEI382g2fvT_"
      },
      "id": "kEI382g2fvT_",
      "execution_count": 11,
      "outputs": []
    },
    {
      "cell_type": "code",
      "source": [
        "s = df['timestamp'].str.split()\n",
        "df['timestamp_adjusted'] = pd.to_datetime(s.str[0]) + pd.to_timedelta(s.str[1])\n",
        "df[\"timestamp_adjusted\"]= pd.to_datetime(df[\"timestamp_adjusted\"])\n",
        "df[\"only_date\"] = [d.date() for d in df[\"timestamp_adjusted\"]]\n",
        "df[\"only_time\"] = [d.time() for d in df[\"timestamp_adjusted\"]]"
      ],
      "metadata": {
        "id": "rroCZamVjW8A"
      },
      "id": "rroCZamVjW8A",
      "execution_count": 12,
      "outputs": []
    },
    {
      "cell_type": "markdown",
      "source": [
        "Before dropping the rows with missing user ids, we would like to use decision tree to check if the user ids all belong to a specific user group (e.g. all mac users' ids are missing?). If yes, we can then turn to the eng team to confirm if there is something wrong with tagging and tracking. "
      ],
      "metadata": {
        "id": "eRn5NDZ81PUU"
      },
      "id": "eRn5NDZ81PUU"
    },
    {
      "cell_type": "code",
      "source": [
        "train_missing = df[['source','device','operative_system','category','only_date']]"
      ],
      "metadata": {
        "id": "Zv22D22kgV-y"
      },
      "id": "Zv22D22kgV-y",
      "execution_count": 13,
      "outputs": []
    },
    {
      "cell_type": "code",
      "source": [
        "data_missing = pd.get_dummies(train_missing)\n",
        "train_missing_cols = data_missing.drop(['category'], axis = 1)\n"
      ],
      "metadata": {
        "id": "ShZrhZkWkpLO"
      },
      "id": "ShZrhZkWkpLO",
      "execution_count": 14,
      "outputs": []
    },
    {
      "cell_type": "code",
      "source": [
        "tree=DecisionTreeClassifier(\n",
        "    max_depth=4\n",
        "    #class_weight=\"balanced\",\n",
        "    #min_impurity_decrease = 0.0001\n",
        "    )\n",
        "tree.fit(train_missing_cols,data_missing['category'])\n",
        "  "
      ],
      "metadata": {
        "colab": {
          "base_uri": "https://localhost:8080/"
        },
        "id": "xr2-rz8miirA",
        "outputId": "5af78456-7fa8-4218-892b-cb4af942139d"
      },
      "id": "xr2-rz8miirA",
      "execution_count": 15,
      "outputs": [
        {
          "output_type": "execute_result",
          "data": {
            "text/plain": [
              "DecisionTreeClassifier(max_depth=4)"
            ]
          },
          "metadata": {},
          "execution_count": 15
        }
      ]
    },
    {
      "cell_type": "code",
      "source": [
        "import graphviz\n",
        "# DOT data\n",
        "dot_data = export_graphviz(tree, out_file=None, \n",
        "                                feature_names=train_missing_cols.columns,\n",
        "                           proportion=True,\n",
        "                                filled=True)\n",
        "# Draw graph\n",
        "graph = graphviz.Source(dot_data, format=\"png\") \n",
        "graph\n",
        "\n",
        "\n"
      ],
      "metadata": {
        "colab": {
          "base_uri": "https://localhost:8080/",
          "height": 677
        },
        "id": "EfqykWi8l6R_",
        "outputId": "59b6af16-fc2c-4e01-ce26-52fdf00bf3ad"
      },
      "id": "EfqykWi8l6R_",
      "execution_count": 17,
      "outputs": [
        {
          "output_type": "execute_result",
          "data": {
            "text/plain": [
              "<graphviz.files.Source at 0x7fa42a5bad50>"
            ],
            "image/svg+xml": "<?xml version=\"1.0\" encoding=\"UTF-8\" standalone=\"no\"?>\n<!DOCTYPE svg PUBLIC \"-//W3C//DTD SVG 1.1//EN\"\n \"http://www.w3.org/Graphics/SVG/1.1/DTD/svg11.dtd\">\n<!-- Generated by graphviz version 2.40.1 (20161225.0304)\n -->\n<!-- Title: Tree Pages: 1 -->\n<svg width=\"2374pt\" height=\"477pt\"\n viewBox=\"0.00 0.00 2373.50 477.00\" xmlns=\"http://www.w3.org/2000/svg\" xmlns:xlink=\"http://www.w3.org/1999/xlink\">\n<g id=\"graph0\" class=\"graph\" transform=\"scale(1 1) rotate(0) translate(4 473)\">\n<title>Tree</title>\n<polygon fill=\"#ffffff\" stroke=\"transparent\" points=\"-4,4 -4,-473 2369.5,-473 2369.5,4 -4,4\"/>\n<!-- 0 -->\n<g id=\"node1\" class=\"node\">\n<title>0</title>\n<polygon fill=\"#57ace9\" stroke=\"#000000\" points=\"1438,-469 1230,-469 1230,-401 1438,-401 1438,-469\"/>\n<text text-anchor=\"middle\" x=\"1334\" y=\"-453.8\" font-family=\"Helvetica,sans-Serif\" font-size=\"14.00\" fill=\"#000000\">only_date_2015&#45;03&#45;08 &lt;= 0.5</text>\n<text text-anchor=\"middle\" x=\"1334\" y=\"-438.8\" font-family=\"Helvetica,sans-Serif\" font-size=\"14.00\" fill=\"#000000\">gini = 0.226</text>\n<text text-anchor=\"middle\" x=\"1334\" y=\"-423.8\" font-family=\"Helvetica,sans-Serif\" font-size=\"14.00\" fill=\"#000000\">samples = 100.0%</text>\n<text text-anchor=\"middle\" x=\"1334\" y=\"-408.8\" font-family=\"Helvetica,sans-Serif\" font-size=\"14.00\" fill=\"#000000\">value = [0.13, 0.87]</text>\n</g>\n<!-- 1 -->\n<g id=\"node2\" class=\"node\">\n<title>1</title>\n<polygon fill=\"#57ace9\" stroke=\"#000000\" points=\"1123,-365 915,-365 915,-297 1123,-297 1123,-365\"/>\n<text text-anchor=\"middle\" x=\"1019\" y=\"-349.8\" font-family=\"Helvetica,sans-Serif\" font-size=\"14.00\" fill=\"#000000\">only_date_2015&#45;04&#45;23 &lt;= 0.5</text>\n<text text-anchor=\"middle\" x=\"1019\" y=\"-334.8\" font-family=\"Helvetica,sans-Serif\" font-size=\"14.00\" fill=\"#000000\">gini = 0.226</text>\n<text text-anchor=\"middle\" x=\"1019\" y=\"-319.8\" font-family=\"Helvetica,sans-Serif\" font-size=\"14.00\" fill=\"#000000\">samples = 98.6%</text>\n<text text-anchor=\"middle\" x=\"1019\" y=\"-304.8\" font-family=\"Helvetica,sans-Serif\" font-size=\"14.00\" fill=\"#000000\">value = [0.13, 0.87]</text>\n</g>\n<!-- 0&#45;&gt;1 -->\n<g id=\"edge1\" class=\"edge\">\n<title>0&#45;&gt;1</title>\n<path fill=\"none\" stroke=\"#000000\" d=\"M1230.8572,-400.9465C1199.0939,-390.4596 1163.9686,-378.8626 1131.6033,-368.177\"/>\n<polygon fill=\"#000000\" stroke=\"#000000\" points=\"1132.6985,-364.8528 1122.1053,-365.0411 1130.5038,-371.4999 1132.6985,-364.8528\"/>\n<text text-anchor=\"middle\" x=\"1133.3495\" y=\"-383.6697\" font-family=\"Helvetica,sans-Serif\" font-size=\"14.00\" fill=\"#000000\">True</text>\n</g>\n<!-- 16 -->\n<g id=\"node17\" class=\"node\">\n<title>16</title>\n<polygon fill=\"#53aae8\" stroke=\"#000000\" points=\"1777,-365 1595,-365 1595,-297 1777,-297 1777,-365\"/>\n<text text-anchor=\"middle\" x=\"1686\" y=\"-349.8\" font-family=\"Helvetica,sans-Serif\" font-size=\"14.00\" fill=\"#000000\">source_seo&#45;yahoo &lt;= 0.5</text>\n<text text-anchor=\"middle\" x=\"1686\" y=\"-334.8\" font-family=\"Helvetica,sans-Serif\" font-size=\"14.00\" fill=\"#000000\">gini = 0.206</text>\n<text text-anchor=\"middle\" x=\"1686\" y=\"-319.8\" font-family=\"Helvetica,sans-Serif\" font-size=\"14.00\" fill=\"#000000\">samples = 1.4%</text>\n<text text-anchor=\"middle\" x=\"1686\" y=\"-304.8\" font-family=\"Helvetica,sans-Serif\" font-size=\"14.00\" fill=\"#000000\">value = [0.116, 0.884]</text>\n</g>\n<!-- 0&#45;&gt;16 -->\n<g id=\"edge16\" class=\"edge\">\n<title>0&#45;&gt;16</title>\n<path fill=\"none\" stroke=\"#000000\" d=\"M1438.1829,-404.2187C1484.6474,-390.4905 1539.1725,-374.3808 1585.2305,-360.7728\"/>\n<polygon fill=\"#000000\" stroke=\"#000000\" points=\"1586.3259,-364.0988 1594.9243,-357.9087 1584.3424,-357.3857 1586.3259,-364.0988\"/>\n<text text-anchor=\"middle\" x=\"1582.98\" y=\"-376.1708\" font-family=\"Helvetica,sans-Serif\" font-size=\"14.00\" fill=\"#000000\">False</text>\n</g>\n<!-- 2 -->\n<g id=\"node3\" class=\"node\">\n<title>2</title>\n<polygon fill=\"#57ace9\" stroke=\"#000000\" points=\"622,-261 414,-261 414,-193 622,-193 622,-261\"/>\n<text text-anchor=\"middle\" x=\"518\" y=\"-245.8\" font-family=\"Helvetica,sans-Serif\" font-size=\"14.00\" fill=\"#000000\">only_date_2015&#45;03&#45;27 &lt;= 0.5</text>\n<text text-anchor=\"middle\" x=\"518\" y=\"-230.8\" font-family=\"Helvetica,sans-Serif\" font-size=\"14.00\" fill=\"#000000\">gini = 0.226</text>\n<text text-anchor=\"middle\" x=\"518\" y=\"-215.8\" font-family=\"Helvetica,sans-Serif\" font-size=\"14.00\" fill=\"#000000\">samples = 97.7%</text>\n<text text-anchor=\"middle\" x=\"518\" y=\"-200.8\" font-family=\"Helvetica,sans-Serif\" font-size=\"14.00\" fill=\"#000000\">value = [0.13, 0.87]</text>\n</g>\n<!-- 1&#45;&gt;2 -->\n<g id=\"edge2\" class=\"edge\">\n<title>1&#45;&gt;2</title>\n<path fill=\"none\" stroke=\"#000000\" d=\"M914.8883,-309.388C832.4314,-292.2712 717.3736,-268.3869 632.3612,-250.7396\"/>\n<polygon fill=\"#000000\" stroke=\"#000000\" points=\"632.9111,-247.2793 622.4084,-248.6736 631.4883,-254.1331 632.9111,-247.2793\"/>\n</g>\n<!-- 9 -->\n<g id=\"node10\" class=\"node\">\n<title>9</title>\n<polygon fill=\"#5baee9\" stroke=\"#000000\" points=\"1112,-261 926,-261 926,-193 1112,-193 1112,-261\"/>\n<text text-anchor=\"middle\" x=\"1019\" y=\"-245.8\" font-family=\"Helvetica,sans-Serif\" font-size=\"14.00\" fill=\"#000000\">source_seo&#45;google &lt;= 0.5</text>\n<text text-anchor=\"middle\" x=\"1019\" y=\"-230.8\" font-family=\"Helvetica,sans-Serif\" font-size=\"14.00\" fill=\"#000000\">gini = 0.25</text>\n<text text-anchor=\"middle\" x=\"1019\" y=\"-215.8\" font-family=\"Helvetica,sans-Serif\" font-size=\"14.00\" fill=\"#000000\">samples = 0.9%</text>\n<text text-anchor=\"middle\" x=\"1019\" y=\"-200.8\" font-family=\"Helvetica,sans-Serif\" font-size=\"14.00\" fill=\"#000000\">value = [0.147, 0.853]</text>\n</g>\n<!-- 1&#45;&gt;9 -->\n<g id=\"edge9\" class=\"edge\">\n<title>1&#45;&gt;9</title>\n<path fill=\"none\" stroke=\"#000000\" d=\"M1019,-296.9465C1019,-288.776 1019,-279.9318 1019,-271.3697\"/>\n<polygon fill=\"#000000\" stroke=\"#000000\" points=\"1022.5001,-271.13 1019,-261.13 1015.5001,-271.13 1022.5001,-271.13\"/>\n</g>\n<!-- 3 -->\n<g id=\"node4\" class=\"node\">\n<title>3</title>\n<polygon fill=\"#57ace9\" stroke=\"#000000\" points=\"340,-157 132,-157 132,-89 340,-89 340,-157\"/>\n<text text-anchor=\"middle\" x=\"236\" y=\"-141.8\" font-family=\"Helvetica,sans-Serif\" font-size=\"14.00\" fill=\"#000000\">only_date_2015&#45;04&#45;21 &lt;= 0.5</text>\n<text text-anchor=\"middle\" x=\"236\" y=\"-126.8\" font-family=\"Helvetica,sans-Serif\" font-size=\"14.00\" fill=\"#000000\">gini = 0.226</text>\n<text text-anchor=\"middle\" x=\"236\" y=\"-111.8\" font-family=\"Helvetica,sans-Serif\" font-size=\"14.00\" fill=\"#000000\">samples = 95.5%</text>\n<text text-anchor=\"middle\" x=\"236\" y=\"-96.8\" font-family=\"Helvetica,sans-Serif\" font-size=\"14.00\" fill=\"#000000\">value = [0.13, 0.87]</text>\n</g>\n<!-- 2&#45;&gt;3 -->\n<g id=\"edge3\" class=\"edge\">\n<title>2&#45;&gt;3</title>\n<path fill=\"none\" stroke=\"#000000\" d=\"M425.6627,-192.9465C397.6652,-182.6212 366.75,-171.2199 338.1483,-160.6717\"/>\n<polygon fill=\"#000000\" stroke=\"#000000\" points=\"339.1382,-157.3064 328.5448,-157.13 336.716,-163.874 339.1382,-157.3064\"/>\n</g>\n<!-- 6 -->\n<g id=\"node7\" class=\"node\">\n<title>6</title>\n<polygon fill=\"#59ade9\" stroke=\"#000000\" points=\"611,-157 425,-157 425,-89 611,-89 611,-157\"/>\n<text text-anchor=\"middle\" x=\"518\" y=\"-141.8\" font-family=\"Helvetica,sans-Serif\" font-size=\"14.00\" fill=\"#000000\">source_seo&#45;google &lt;= 0.5</text>\n<text text-anchor=\"middle\" x=\"518\" y=\"-126.8\" font-family=\"Helvetica,sans-Serif\" font-size=\"14.00\" fill=\"#000000\">gini = 0.238</text>\n<text text-anchor=\"middle\" x=\"518\" y=\"-111.8\" font-family=\"Helvetica,sans-Serif\" font-size=\"14.00\" fill=\"#000000\">samples = 2.2%</text>\n<text text-anchor=\"middle\" x=\"518\" y=\"-96.8\" font-family=\"Helvetica,sans-Serif\" font-size=\"14.00\" fill=\"#000000\">value = [0.138, 0.862]</text>\n</g>\n<!-- 2&#45;&gt;6 -->\n<g id=\"edge6\" class=\"edge\">\n<title>2&#45;&gt;6</title>\n<path fill=\"none\" stroke=\"#000000\" d=\"M518,-192.9465C518,-184.776 518,-175.9318 518,-167.3697\"/>\n<polygon fill=\"#000000\" stroke=\"#000000\" points=\"521.5001,-167.13 518,-157.13 514.5001,-167.13 521.5001,-167.13\"/>\n</g>\n<!-- 4 -->\n<g id=\"node5\" class=\"node\">\n<title>4</title>\n<polygon fill=\"#57ace9\" stroke=\"#000000\" points=\"140,-53 0,-53 0,0 140,0 140,-53\"/>\n<text text-anchor=\"middle\" x=\"70\" y=\"-37.8\" font-family=\"Helvetica,sans-Serif\" font-size=\"14.00\" fill=\"#000000\">gini = 0.226</text>\n<text text-anchor=\"middle\" x=\"70\" y=\"-22.8\" font-family=\"Helvetica,sans-Serif\" font-size=\"14.00\" fill=\"#000000\">samples = 95.0%</text>\n<text text-anchor=\"middle\" x=\"70\" y=\"-7.8\" font-family=\"Helvetica,sans-Serif\" font-size=\"14.00\" fill=\"#000000\">value = [0.13, 0.87]</text>\n</g>\n<!-- 3&#45;&gt;4 -->\n<g id=\"edge4\" class=\"edge\">\n<title>3&#45;&gt;4</title>\n<path fill=\"none\" stroke=\"#000000\" d=\"M177.4746,-88.9777C160.2256,-78.9504 141.4277,-68.0228 124.446,-58.1508\"/>\n<polygon fill=\"#000000\" stroke=\"#000000\" points=\"126.1533,-55.095 115.749,-53.095 122.6353,-61.1467 126.1533,-55.095\"/>\n</g>\n<!-- 5 -->\n<g id=\"node6\" class=\"node\">\n<title>5</title>\n<polygon fill=\"#5baee9\" stroke=\"#000000\" points=\"314,-53 158,-53 158,0 314,0 314,-53\"/>\n<text text-anchor=\"middle\" x=\"236\" y=\"-37.8\" font-family=\"Helvetica,sans-Serif\" font-size=\"14.00\" fill=\"#000000\">gini = 0.251</text>\n<text text-anchor=\"middle\" x=\"236\" y=\"-22.8\" font-family=\"Helvetica,sans-Serif\" font-size=\"14.00\" fill=\"#000000\">samples = 0.5%</text>\n<text text-anchor=\"middle\" x=\"236\" y=\"-7.8\" font-family=\"Helvetica,sans-Serif\" font-size=\"14.00\" fill=\"#000000\">value = [0.147, 0.853]</text>\n</g>\n<!-- 3&#45;&gt;5 -->\n<g id=\"edge5\" class=\"edge\">\n<title>3&#45;&gt;5</title>\n<path fill=\"none\" stroke=\"#000000\" d=\"M236,-88.9777C236,-80.7364 236,-71.887 236,-63.5153\"/>\n<polygon fill=\"#000000\" stroke=\"#000000\" points=\"239.5001,-63.2484 236,-53.2485 232.5001,-63.2485 239.5001,-63.2484\"/>\n</g>\n<!-- 7 -->\n<g id=\"node8\" class=\"node\">\n<title>7</title>\n<polygon fill=\"#58ace9\" stroke=\"#000000\" points=\"488,-53 332,-53 332,0 488,0 488,-53\"/>\n<text text-anchor=\"middle\" x=\"410\" y=\"-37.8\" font-family=\"Helvetica,sans-Serif\" font-size=\"14.00\" fill=\"#000000\">gini = 0.235</text>\n<text text-anchor=\"middle\" x=\"410\" y=\"-22.8\" font-family=\"Helvetica,sans-Serif\" font-size=\"14.00\" fill=\"#000000\">samples = 2.1%</text>\n<text text-anchor=\"middle\" x=\"410\" y=\"-7.8\" font-family=\"Helvetica,sans-Serif\" font-size=\"14.00\" fill=\"#000000\">value = [0.136, 0.864]</text>\n</g>\n<!-- 6&#45;&gt;7 -->\n<g id=\"edge7\" class=\"edge\">\n<title>6&#45;&gt;7</title>\n<path fill=\"none\" stroke=\"#000000\" d=\"M479.9232,-88.9777C469.3676,-79.546 457.9204,-69.3178 447.4036,-59.9208\"/>\n<polygon fill=\"#000000\" stroke=\"#000000\" points=\"449.7251,-57.3015 439.9361,-53.2485 445.061,-62.5213 449.7251,-57.3015\"/>\n</g>\n<!-- 8 -->\n<g id=\"node9\" class=\"node\">\n<title>8</title>\n<polygon fill=\"#61b1ea\" stroke=\"#000000\" points=\"662,-53 506,-53 506,0 662,0 662,-53\"/>\n<text text-anchor=\"middle\" x=\"584\" y=\"-37.8\" font-family=\"Helvetica,sans-Serif\" font-size=\"14.00\" fill=\"#000000\">gini = 0.278</text>\n<text text-anchor=\"middle\" x=\"584\" y=\"-22.8\" font-family=\"Helvetica,sans-Serif\" font-size=\"14.00\" fill=\"#000000\">samples = 0.2%</text>\n<text text-anchor=\"middle\" x=\"584\" y=\"-7.8\" font-family=\"Helvetica,sans-Serif\" font-size=\"14.00\" fill=\"#000000\">value = [0.167, 0.833]</text>\n</g>\n<!-- 6&#45;&gt;8 -->\n<g id=\"edge8\" class=\"edge\">\n<title>6&#45;&gt;8</title>\n<path fill=\"none\" stroke=\"#000000\" d=\"M541.2691,-88.9777C547.344,-80.0954 553.9021,-70.5067 560.0135,-61.5711\"/>\n<polygon fill=\"#000000\" stroke=\"#000000\" points=\"562.9493,-63.4785 565.7057,-53.2485 557.1714,-59.5267 562.9493,-63.4785\"/>\n</g>\n<!-- 10 -->\n<g id=\"node11\" class=\"node\">\n<title>10</title>\n<polygon fill=\"#5aade9\" stroke=\"#000000\" points=\"997,-157 841,-157 841,-89 997,-89 997,-157\"/>\n<text text-anchor=\"middle\" x=\"919\" y=\"-141.8\" font-family=\"Helvetica,sans-Serif\" font-size=\"14.00\" fill=\"#000000\">device_web &lt;= 0.5</text>\n<text text-anchor=\"middle\" x=\"919\" y=\"-126.8\" font-family=\"Helvetica,sans-Serif\" font-size=\"14.00\" fill=\"#000000\">gini = 0.246</text>\n<text text-anchor=\"middle\" x=\"919\" y=\"-111.8\" font-family=\"Helvetica,sans-Serif\" font-size=\"14.00\" fill=\"#000000\">samples = 0.8%</text>\n<text text-anchor=\"middle\" x=\"919\" y=\"-96.8\" font-family=\"Helvetica,sans-Serif\" font-size=\"14.00\" fill=\"#000000\">value = [0.144, 0.856]</text>\n</g>\n<!-- 9&#45;&gt;10 -->\n<g id=\"edge10\" class=\"edge\">\n<title>9&#45;&gt;10</title>\n<path fill=\"none\" stroke=\"#000000\" d=\"M986.2563,-192.9465C977.5367,-183.8782 968.0191,-173.9799 958.9601,-164.5585\"/>\n<polygon fill=\"#000000\" stroke=\"#000000\" points=\"961.2713,-161.9125 951.8173,-157.13 956.2255,-166.7642 961.2713,-161.9125\"/>\n</g>\n<!-- 13 -->\n<g id=\"node14\" class=\"node\">\n<title>13</title>\n<polygon fill=\"#66b3eb\" stroke=\"#000000\" points=\"1223,-157 1015,-157 1015,-89 1223,-89 1223,-157\"/>\n<text text-anchor=\"middle\" x=\"1119\" y=\"-141.8\" font-family=\"Helvetica,sans-Serif\" font-size=\"14.00\" fill=\"#000000\">operative_system_iOS &lt;= 0.5</text>\n<text text-anchor=\"middle\" x=\"1119\" y=\"-126.8\" font-family=\"Helvetica,sans-Serif\" font-size=\"14.00\" fill=\"#000000\">gini = 0.303</text>\n<text text-anchor=\"middle\" x=\"1119\" y=\"-111.8\" font-family=\"Helvetica,sans-Serif\" font-size=\"14.00\" fill=\"#000000\">samples = 0.1%</text>\n<text text-anchor=\"middle\" x=\"1119\" y=\"-96.8\" font-family=\"Helvetica,sans-Serif\" font-size=\"14.00\" fill=\"#000000\">value = [0.186, 0.814]</text>\n</g>\n<!-- 9&#45;&gt;13 -->\n<g id=\"edge13\" class=\"edge\">\n<title>9&#45;&gt;13</title>\n<path fill=\"none\" stroke=\"#000000\" d=\"M1051.7437,-192.9465C1060.4633,-183.8782 1069.9809,-173.9799 1079.0399,-164.5585\"/>\n<polygon fill=\"#000000\" stroke=\"#000000\" points=\"1081.7745,-166.7642 1086.1827,-157.13 1076.7287,-161.9125 1081.7745,-166.7642\"/>\n</g>\n<!-- 11 -->\n<g id=\"node12\" class=\"node\">\n<title>11</title>\n<polygon fill=\"#5cafea\" stroke=\"#000000\" points=\"836,-53 680,-53 680,0 836,0 836,-53\"/>\n<text text-anchor=\"middle\" x=\"758\" y=\"-37.8\" font-family=\"Helvetica,sans-Serif\" font-size=\"14.00\" fill=\"#000000\">gini = 0.258</text>\n<text text-anchor=\"middle\" x=\"758\" y=\"-22.8\" font-family=\"Helvetica,sans-Serif\" font-size=\"14.00\" fill=\"#000000\">samples = 0.5%</text>\n<text text-anchor=\"middle\" x=\"758\" y=\"-7.8\" font-family=\"Helvetica,sans-Serif\" font-size=\"14.00\" fill=\"#000000\">value = [0.152, 0.848]</text>\n</g>\n<!-- 10&#45;&gt;11 -->\n<g id=\"edge11\" class=\"edge\">\n<title>10&#45;&gt;11</title>\n<path fill=\"none\" stroke=\"#000000\" d=\"M862.2374,-88.9777C845.6614,-79.0424 827.6107,-68.2232 811.2598,-58.4228\"/>\n<polygon fill=\"#000000\" stroke=\"#000000\" points=\"812.7477,-55.2341 802.371,-53.095 809.1489,-61.2382 812.7477,-55.2341\"/>\n</g>\n<!-- 12 -->\n<g id=\"node13\" class=\"node\">\n<title>12</title>\n<polygon fill=\"#57ace9\" stroke=\"#000000\" points=\"1010,-53 854,-53 854,0 1010,0 1010,-53\"/>\n<text text-anchor=\"middle\" x=\"932\" y=\"-37.8\" font-family=\"Helvetica,sans-Serif\" font-size=\"14.00\" fill=\"#000000\">gini = 0.229</text>\n<text text-anchor=\"middle\" x=\"932\" y=\"-22.8\" font-family=\"Helvetica,sans-Serif\" font-size=\"14.00\" fill=\"#000000\">samples = 0.3%</text>\n<text text-anchor=\"middle\" x=\"932\" y=\"-7.8\" font-family=\"Helvetica,sans-Serif\" font-size=\"14.00\" fill=\"#000000\">value = [0.132, 0.868]</text>\n</g>\n<!-- 10&#45;&gt;12 -->\n<g id=\"edge12\" class=\"edge\">\n<title>10&#45;&gt;12</title>\n<path fill=\"none\" stroke=\"#000000\" d=\"M923.5833,-88.9777C924.7059,-80.6449 925.9122,-71.6903 927.051,-63.2364\"/>\n<polygon fill=\"#000000\" stroke=\"#000000\" points=\"930.5301,-63.6263 928.3966,-53.2485 923.5927,-62.6916 930.5301,-63.6263\"/>\n</g>\n<!-- 14 -->\n<g id=\"node15\" class=\"node\">\n<title>14</title>\n<polygon fill=\"#5eafea\" stroke=\"#000000\" points=\"1184,-53 1028,-53 1028,0 1184,0 1184,-53\"/>\n<text text-anchor=\"middle\" x=\"1106\" y=\"-37.8\" font-family=\"Helvetica,sans-Serif\" font-size=\"14.00\" fill=\"#000000\">gini = 0.265</text>\n<text text-anchor=\"middle\" x=\"1106\" y=\"-22.8\" font-family=\"Helvetica,sans-Serif\" font-size=\"14.00\" fill=\"#000000\">samples = 0.0%</text>\n<text text-anchor=\"middle\" x=\"1106\" y=\"-7.8\" font-family=\"Helvetica,sans-Serif\" font-size=\"14.00\" fill=\"#000000\">value = [0.158, 0.842]</text>\n</g>\n<!-- 13&#45;&gt;14 -->\n<g id=\"edge14\" class=\"edge\">\n<title>13&#45;&gt;14</title>\n<path fill=\"none\" stroke=\"#000000\" d=\"M1114.4167,-88.9777C1113.2941,-80.6449 1112.0878,-71.6903 1110.949,-63.2364\"/>\n<polygon fill=\"#000000\" stroke=\"#000000\" points=\"1114.4073,-62.6916 1109.6034,-53.2485 1107.4699,-63.6263 1114.4073,-62.6916\"/>\n</g>\n<!-- 15 -->\n<g id=\"node16\" class=\"node\">\n<title>15</title>\n<polygon fill=\"#7ebfee\" stroke=\"#000000\" points=\"1358,-53 1202,-53 1202,0 1358,0 1358,-53\"/>\n<text text-anchor=\"middle\" x=\"1280\" y=\"-37.8\" font-family=\"Helvetica,sans-Serif\" font-size=\"14.00\" fill=\"#000000\">gini = 0.383</text>\n<text text-anchor=\"middle\" x=\"1280\" y=\"-22.8\" font-family=\"Helvetica,sans-Serif\" font-size=\"14.00\" fill=\"#000000\">samples = 0.0%</text>\n<text text-anchor=\"middle\" x=\"1280\" y=\"-7.8\" font-family=\"Helvetica,sans-Serif\" font-size=\"14.00\" fill=\"#000000\">value = [0.259, 0.741]</text>\n</g>\n<!-- 13&#45;&gt;15 -->\n<g id=\"edge15\" class=\"edge\">\n<title>13&#45;&gt;15</title>\n<path fill=\"none\" stroke=\"#000000\" d=\"M1175.7626,-88.9777C1192.3386,-79.0424 1210.3893,-68.2232 1226.7402,-58.4228\"/>\n<polygon fill=\"#000000\" stroke=\"#000000\" points=\"1228.8511,-61.2382 1235.629,-53.095 1225.2523,-55.2341 1228.8511,-61.2382\"/>\n</g>\n<!-- 17 -->\n<g id=\"node18\" class=\"node\">\n<title>17</title>\n<polygon fill=\"#53aae8\" stroke=\"#000000\" points=\"1789,-261 1583,-261 1583,-193 1789,-193 1789,-261\"/>\n<text text-anchor=\"middle\" x=\"1686\" y=\"-245.8\" font-family=\"Helvetica,sans-Serif\" font-size=\"14.00\" fill=\"#000000\">source_seo_facebook &lt;= 0.5</text>\n<text text-anchor=\"middle\" x=\"1686\" y=\"-230.8\" font-family=\"Helvetica,sans-Serif\" font-size=\"14.00\" fill=\"#000000\">gini = 0.207</text>\n<text text-anchor=\"middle\" x=\"1686\" y=\"-215.8\" font-family=\"Helvetica,sans-Serif\" font-size=\"14.00\" fill=\"#000000\">samples = 1.4%</text>\n<text text-anchor=\"middle\" x=\"1686\" y=\"-200.8\" font-family=\"Helvetica,sans-Serif\" font-size=\"14.00\" fill=\"#000000\">value = [0.117, 0.883]</text>\n</g>\n<!-- 16&#45;&gt;17 -->\n<g id=\"edge17\" class=\"edge\">\n<title>16&#45;&gt;17</title>\n<path fill=\"none\" stroke=\"#000000\" d=\"M1686,-296.9465C1686,-288.776 1686,-279.9318 1686,-271.3697\"/>\n<polygon fill=\"#000000\" stroke=\"#000000\" points=\"1689.5001,-271.13 1686,-261.13 1682.5001,-271.13 1689.5001,-271.13\"/>\n</g>\n<!-- 24 -->\n<g id=\"node25\" class=\"node\">\n<title>24</title>\n<polygon fill=\"#47a4e7\" stroke=\"#000000\" points=\"2234.5,-261 2001.5,-261 2001.5,-193 2234.5,-193 2234.5,-261\"/>\n<text text-anchor=\"middle\" x=\"2118\" y=\"-245.8\" font-family=\"Helvetica,sans-Serif\" font-size=\"14.00\" fill=\"#000000\">operative_system_android &lt;= 0.5</text>\n<text text-anchor=\"middle\" x=\"2118\" y=\"-230.8\" font-family=\"Helvetica,sans-Serif\" font-size=\"14.00\" fill=\"#000000\">gini = 0.122</text>\n<text text-anchor=\"middle\" x=\"2118\" y=\"-215.8\" font-family=\"Helvetica,sans-Serif\" font-size=\"14.00\" fill=\"#000000\">samples = 0.0%</text>\n<text text-anchor=\"middle\" x=\"2118\" y=\"-200.8\" font-family=\"Helvetica,sans-Serif\" font-size=\"14.00\" fill=\"#000000\">value = [0.065, 0.935]</text>\n</g>\n<!-- 16&#45;&gt;24 -->\n<g id=\"edge24\" class=\"edge\">\n<title>16&#45;&gt;24</title>\n<path fill=\"none\" stroke=\"#000000\" d=\"M1777.0882,-309.0714C1839.2592,-294.1043 1922.4656,-274.0731 1991.1114,-257.5472\"/>\n<polygon fill=\"#000000\" stroke=\"#000000\" points=\"1992.2266,-260.8789 2001.1296,-255.1355 1990.5882,-254.0733 1992.2266,-260.8789\"/>\n</g>\n<!-- 18 -->\n<g id=\"node19\" class=\"node\">\n<title>18</title>\n<polygon fill=\"#54aae9\" stroke=\"#000000\" points=\"1668,-157 1498,-157 1498,-89 1668,-89 1668,-157\"/>\n<text text-anchor=\"middle\" x=\"1583\" y=\"-141.8\" font-family=\"Helvetica,sans-Serif\" font-size=\"14.00\" fill=\"#000000\">source_seo&#45;bing &lt;= 0.5</text>\n<text text-anchor=\"middle\" x=\"1583\" y=\"-126.8\" font-family=\"Helvetica,sans-Serif\" font-size=\"14.00\" fill=\"#000000\">gini = 0.21</text>\n<text text-anchor=\"middle\" x=\"1583\" y=\"-111.8\" font-family=\"Helvetica,sans-Serif\" font-size=\"14.00\" fill=\"#000000\">samples = 1.3%</text>\n<text text-anchor=\"middle\" x=\"1583\" y=\"-96.8\" font-family=\"Helvetica,sans-Serif\" font-size=\"14.00\" fill=\"#000000\">value = [0.119, 0.881]</text>\n</g>\n<!-- 17&#45;&gt;18 -->\n<g id=\"edge18\" class=\"edge\">\n<title>17&#45;&gt;18</title>\n<path fill=\"none\" stroke=\"#000000\" d=\"M1652.2739,-192.9465C1643.2039,-183.7884 1633.2955,-173.7838 1623.8819,-164.2788\"/>\n<polygon fill=\"#000000\" stroke=\"#000000\" points=\"1626.3255,-161.7723 1616.8018,-157.13 1621.3519,-166.6981 1626.3255,-161.7723\"/>\n</g>\n<!-- 21 -->\n<g id=\"node22\" class=\"node\">\n<title>21</title>\n<polygon fill=\"#4da7e8\" stroke=\"#000000\" points=\"1894,-157 1686,-157 1686,-89 1894,-89 1894,-157\"/>\n<text text-anchor=\"middle\" x=\"1790\" y=\"-141.8\" font-family=\"Helvetica,sans-Serif\" font-size=\"14.00\" fill=\"#000000\">operative_system_iOS &lt;= 0.5</text>\n<text text-anchor=\"middle\" x=\"1790\" y=\"-126.8\" font-family=\"Helvetica,sans-Serif\" font-size=\"14.00\" fill=\"#000000\">gini = 0.164</text>\n<text text-anchor=\"middle\" x=\"1790\" y=\"-111.8\" font-family=\"Helvetica,sans-Serif\" font-size=\"14.00\" fill=\"#000000\">samples = 0.1%</text>\n<text text-anchor=\"middle\" x=\"1790\" y=\"-96.8\" font-family=\"Helvetica,sans-Serif\" font-size=\"14.00\" fill=\"#000000\">value = [0.09, 0.91]</text>\n</g>\n<!-- 17&#45;&gt;21 -->\n<g id=\"edge21\" class=\"edge\">\n<title>17&#45;&gt;21</title>\n<path fill=\"none\" stroke=\"#000000\" d=\"M1720.0535,-192.9465C1729.2116,-183.7884 1739.2162,-173.7838 1748.7212,-164.2788\"/>\n<polygon fill=\"#000000\" stroke=\"#000000\" points=\"1751.2738,-166.676 1755.87,-157.13 1746.324,-161.7262 1751.2738,-166.676\"/>\n</g>\n<!-- 19 -->\n<g id=\"node20\" class=\"node\">\n<title>19</title>\n<polygon fill=\"#54aae9\" stroke=\"#000000\" points=\"1516,-53 1376,-53 1376,0 1516,0 1516,-53\"/>\n<text text-anchor=\"middle\" x=\"1446\" y=\"-37.8\" font-family=\"Helvetica,sans-Serif\" font-size=\"14.00\" fill=\"#000000\">gini = 0.211</text>\n<text text-anchor=\"middle\" x=\"1446\" y=\"-22.8\" font-family=\"Helvetica,sans-Serif\" font-size=\"14.00\" fill=\"#000000\">samples = 1.3%</text>\n<text text-anchor=\"middle\" x=\"1446\" y=\"-7.8\" font-family=\"Helvetica,sans-Serif\" font-size=\"14.00\" fill=\"#000000\">value = [0.12, 0.88]</text>\n</g>\n<!-- 18&#45;&gt;19 -->\n<g id=\"edge19\" class=\"edge\">\n<title>18&#45;&gt;19</title>\n<path fill=\"none\" stroke=\"#000000\" d=\"M1534.6989,-88.9777C1520.9189,-79.2713 1505.9411,-68.7213 1492.2845,-59.1018\"/>\n<polygon fill=\"#000000\" stroke=\"#000000\" points=\"1494.1655,-56.1457 1483.9745,-53.2485 1490.1345,-61.8686 1494.1655,-56.1457\"/>\n</g>\n<!-- 20 -->\n<g id=\"node21\" class=\"node\">\n<title>20</title>\n<polygon fill=\"#41a1e6\" stroke=\"#000000\" points=\"1674,-53 1534,-53 1534,0 1674,0 1674,-53\"/>\n<text text-anchor=\"middle\" x=\"1604\" y=\"-37.8\" font-family=\"Helvetica,sans-Serif\" font-size=\"14.00\" fill=\"#000000\">gini = 0.077</text>\n<text text-anchor=\"middle\" x=\"1604\" y=\"-22.8\" font-family=\"Helvetica,sans-Serif\" font-size=\"14.00\" fill=\"#000000\">samples = 0.0%</text>\n<text text-anchor=\"middle\" x=\"1604\" y=\"-7.8\" font-family=\"Helvetica,sans-Serif\" font-size=\"14.00\" fill=\"#000000\">value = [0.04, 0.96]</text>\n</g>\n<!-- 18&#45;&gt;20 -->\n<g id=\"edge20\" class=\"edge\">\n<title>18&#45;&gt;20</title>\n<path fill=\"none\" stroke=\"#000000\" d=\"M1590.4038,-88.9777C1592.2172,-80.6449 1594.1659,-71.6903 1596.0055,-63.2364\"/>\n<polygon fill=\"#000000\" stroke=\"#000000\" points=\"1599.4726,-63.7641 1598.1791,-53.2485 1592.6327,-62.2755 1599.4726,-63.7641\"/>\n</g>\n<!-- 22 -->\n<g id=\"node23\" class=\"node\">\n<title>22</title>\n<polygon fill=\"#4ba6e7\" stroke=\"#000000\" points=\"1848,-53 1692,-53 1692,0 1848,0 1848,-53\"/>\n<text text-anchor=\"middle\" x=\"1770\" y=\"-37.8\" font-family=\"Helvetica,sans-Serif\" font-size=\"14.00\" fill=\"#000000\">gini = 0.15</text>\n<text text-anchor=\"middle\" x=\"1770\" y=\"-22.8\" font-family=\"Helvetica,sans-Serif\" font-size=\"14.00\" fill=\"#000000\">samples = 0.1%</text>\n<text text-anchor=\"middle\" x=\"1770\" y=\"-7.8\" font-family=\"Helvetica,sans-Serif\" font-size=\"14.00\" fill=\"#000000\">value = [0.081, 0.919]</text>\n</g>\n<!-- 21&#45;&gt;22 -->\n<g id=\"edge22\" class=\"edge\">\n<title>21&#45;&gt;22</title>\n<path fill=\"none\" stroke=\"#000000\" d=\"M1782.9487,-88.9777C1781.2217,-80.6449 1779.3659,-71.6903 1777.6138,-63.2364\"/>\n<polygon fill=\"#000000\" stroke=\"#000000\" points=\"1781.0004,-62.3301 1775.5437,-53.2485 1774.146,-63.7507 1781.0004,-62.3301\"/>\n</g>\n<!-- 23 -->\n<g id=\"node24\" class=\"node\">\n<title>23</title>\n<polygon fill=\"#52aae8\" stroke=\"#000000\" points=\"2022,-53 1866,-53 1866,0 2022,0 2022,-53\"/>\n<text text-anchor=\"middle\" x=\"1944\" y=\"-37.8\" font-family=\"Helvetica,sans-Serif\" font-size=\"14.00\" fill=\"#000000\">gini = 0.202</text>\n<text text-anchor=\"middle\" x=\"1944\" y=\"-22.8\" font-family=\"Helvetica,sans-Serif\" font-size=\"14.00\" fill=\"#000000\">samples = 0.0%</text>\n<text text-anchor=\"middle\" x=\"1944\" y=\"-7.8\" font-family=\"Helvetica,sans-Serif\" font-size=\"14.00\" fill=\"#000000\">value = [0.114, 0.886]</text>\n</g>\n<!-- 21&#45;&gt;23 -->\n<g id=\"edge23\" class=\"edge\">\n<title>21&#45;&gt;23</title>\n<path fill=\"none\" stroke=\"#000000\" d=\"M1844.2946,-88.9777C1859.9308,-79.1798 1876.9387,-68.5222 1892.4063,-58.8298\"/>\n<polygon fill=\"#000000\" stroke=\"#000000\" points=\"1894.698,-61.5242 1901.3133,-53.2485 1890.981,-55.5926 1894.698,-61.5242\"/>\n</g>\n<!-- 25 -->\n<g id=\"node26\" class=\"node\">\n<title>25</title>\n<polygon fill=\"#4ca6e7\" stroke=\"#000000\" points=\"2224,-157 2012,-157 2012,-89 2224,-89 2224,-157\"/>\n<text text-anchor=\"middle\" x=\"2118\" y=\"-141.8\" font-family=\"Helvetica,sans-Serif\" font-size=\"14.00\" fill=\"#000000\">operative_system_mac &lt;= 0.5</text>\n<text text-anchor=\"middle\" x=\"2118\" y=\"-126.8\" font-family=\"Helvetica,sans-Serif\" font-size=\"14.00\" fill=\"#000000\">gini = 0.157</text>\n<text text-anchor=\"middle\" x=\"2118\" y=\"-111.8\" font-family=\"Helvetica,sans-Serif\" font-size=\"14.00\" fill=\"#000000\">samples = 0.0%</text>\n<text text-anchor=\"middle\" x=\"2118\" y=\"-96.8\" font-family=\"Helvetica,sans-Serif\" font-size=\"14.00\" fill=\"#000000\">value = [0.086, 0.914]</text>\n</g>\n<!-- 24&#45;&gt;25 -->\n<g id=\"edge25\" class=\"edge\">\n<title>24&#45;&gt;25</title>\n<path fill=\"none\" stroke=\"#000000\" d=\"M2118,-192.9465C2118,-184.776 2118,-175.9318 2118,-167.3697\"/>\n<polygon fill=\"#000000\" stroke=\"#000000\" points=\"2121.5001,-167.13 2118,-157.13 2114.5001,-167.13 2121.5001,-167.13\"/>\n</g>\n<!-- 28 -->\n<g id=\"node29\" class=\"node\">\n<title>28</title>\n<polygon fill=\"#399de5\" stroke=\"#000000\" points=\"2365.5,-149.5 2242.5,-149.5 2242.5,-96.5 2365.5,-96.5 2365.5,-149.5\"/>\n<text text-anchor=\"middle\" x=\"2304\" y=\"-134.3\" font-family=\"Helvetica,sans-Serif\" font-size=\"14.00\" fill=\"#000000\">gini = 0.0</text>\n<text text-anchor=\"middle\" x=\"2304\" y=\"-119.3\" font-family=\"Helvetica,sans-Serif\" font-size=\"14.00\" fill=\"#000000\">samples = 0.0%</text>\n<text text-anchor=\"middle\" x=\"2304\" y=\"-104.3\" font-family=\"Helvetica,sans-Serif\" font-size=\"14.00\" fill=\"#000000\">value = [0.0, 1.0]</text>\n</g>\n<!-- 24&#45;&gt;28 -->\n<g id=\"edge28\" class=\"edge\">\n<title>24&#45;&gt;28</title>\n<path fill=\"none\" stroke=\"#000000\" d=\"M2178.9034,-192.9465C2201.0656,-180.5547 2225.9995,-166.6132 2247.7412,-154.4565\"/>\n<polygon fill=\"#000000\" stroke=\"#000000\" points=\"2249.5102,-157.4774 2256.5304,-149.5422 2246.094,-151.3676 2249.5102,-157.4774\"/>\n</g>\n<!-- 26 -->\n<g id=\"node27\" class=\"node\">\n<title>26</title>\n<polygon fill=\"#4ca6e8\" stroke=\"#000000\" points=\"2196,-53 2040,-53 2040,0 2196,0 2196,-53\"/>\n<text text-anchor=\"middle\" x=\"2118\" y=\"-37.8\" font-family=\"Helvetica,sans-Serif\" font-size=\"14.00\" fill=\"#000000\">gini = 0.161</text>\n<text text-anchor=\"middle\" x=\"2118\" y=\"-22.8\" font-family=\"Helvetica,sans-Serif\" font-size=\"14.00\" fill=\"#000000\">samples = 0.0%</text>\n<text text-anchor=\"middle\" x=\"2118\" y=\"-7.8\" font-family=\"Helvetica,sans-Serif\" font-size=\"14.00\" fill=\"#000000\">value = [0.088, 0.912]</text>\n</g>\n<!-- 25&#45;&gt;26 -->\n<g id=\"edge26\" class=\"edge\">\n<title>25&#45;&gt;26</title>\n<path fill=\"none\" stroke=\"#000000\" d=\"M2118,-88.9777C2118,-80.7364 2118,-71.887 2118,-63.5153\"/>\n<polygon fill=\"#000000\" stroke=\"#000000\" points=\"2121.5001,-63.2484 2118,-53.2485 2114.5001,-63.2485 2121.5001,-63.2484\"/>\n</g>\n<!-- 27 -->\n<g id=\"node28\" class=\"node\">\n<title>27</title>\n<polygon fill=\"#399de5\" stroke=\"#000000\" points=\"2337.5,-53 2214.5,-53 2214.5,0 2337.5,0 2337.5,-53\"/>\n<text text-anchor=\"middle\" x=\"2276\" y=\"-37.8\" font-family=\"Helvetica,sans-Serif\" font-size=\"14.00\" fill=\"#000000\">gini = 0.0</text>\n<text text-anchor=\"middle\" x=\"2276\" y=\"-22.8\" font-family=\"Helvetica,sans-Serif\" font-size=\"14.00\" fill=\"#000000\">samples = 0.0%</text>\n<text text-anchor=\"middle\" x=\"2276\" y=\"-7.8\" font-family=\"Helvetica,sans-Serif\" font-size=\"14.00\" fill=\"#000000\">value = [0.0, 1.0]</text>\n</g>\n<!-- 25&#45;&gt;27 -->\n<g id=\"edge27\" class=\"edge\">\n<title>25&#45;&gt;27</title>\n<path fill=\"none\" stroke=\"#000000\" d=\"M2173.7049,-88.9777C2189.972,-79.0424 2207.6864,-68.2232 2223.7326,-58.4228\"/>\n<polygon fill=\"#000000\" stroke=\"#000000\" points=\"2225.746,-61.2943 2232.4558,-53.095 2222.0973,-55.3204 2225.746,-61.2943\"/>\n</g>\n</g>\n</svg>\n"
          },
          "metadata": {},
          "execution_count": 17
        }
      ]
    },
    {
      "cell_type": "markdown",
      "source": [
        "Based on the decision tree analysis above, we can see that whether the user id is missing or not is quite random. Why? The first leaf from left had 95% of the user ids. After splitting the data for 4 depth levels, the decision tree was only able to split the data 5%/95%. We can rule out the possibility that the missing user ids all belong to a specific group."
      ],
      "metadata": {
        "id": "eyaDda7F0tfe"
      },
      "id": "eyaDda7F0tfe"
    },
    {
      "cell_type": "code",
      "source": [
        "drop_index = df[(df.country == \"Not identified\")].index\n",
        "df_remove_missing = df.drop(drop_index)"
      ],
      "metadata": {
        "id": "ys9OXBLGmqyV"
      },
      "id": "ys9OXBLGmqyV",
      "execution_count": 18,
      "outputs": []
    },
    {
      "cell_type": "code",
      "source": [
        "df_remove_missing.shape[0]"
      ],
      "metadata": {
        "colab": {
          "base_uri": "https://localhost:8080/"
        },
        "id": "L5LZlRkot0iL",
        "outputId": "e209f0be-2545-4d28-e362-bbcdcd7bc009"
      },
      "id": "L5LZlRkot0iL",
      "execution_count": 19,
      "outputs": [
        {
          "output_type": "execute_result",
          "data": {
            "text/plain": [
              "275616"
            ]
          },
          "metadata": {},
          "execution_count": 19
        }
      ]
    },
    {
      "cell_type": "markdown",
      "source": [
        "We also suggest removing the user ids that are in the test group but still see the old price \\$39 as well as user ids in the control group but see the new price \\$59."
      ],
      "metadata": {
        "id": "xynuezTR2LMZ"
      },
      "id": "xynuezTR2LMZ"
    },
    {
      "cell_type": "code",
      "source": [
        "abnormal_rows = ((df_remove_missing.test == 0) & (df_remove_missing.price == 59))|((df_remove_missing.test == 1) & (df_remove_missing.price == 39))"
      ],
      "metadata": {
        "id": "KxHHLR1es2Eb"
      },
      "id": "KxHHLR1es2Eb",
      "execution_count": 20,
      "outputs": []
    },
    {
      "cell_type": "code",
      "source": [
        "df_clean = df_remove_missing.drop(df_remove_missing[abnormal_rows].index)"
      ],
      "metadata": {
        "id": "T5LLIwGJvB1l"
      },
      "id": "T5LLIwGJvB1l",
      "execution_count": 21,
      "outputs": []
    },
    {
      "cell_type": "code",
      "source": [
        "df_clean.query('test == 0')['price'].mean(), df_clean.query('test == 1')['price'].mean()"
      ],
      "metadata": {
        "colab": {
          "base_uri": "https://localhost:8080/"
        },
        "id": "ukHOJ9xDsnYg",
        "outputId": "b67351a3-4665-4fb2-8447-4c3a6bfbbca4"
      },
      "id": "ukHOJ9xDsnYg",
      "execution_count": 22,
      "outputs": [
        {
          "output_type": "execute_result",
          "data": {
            "text/plain": [
              "(39.0, 59.0)"
            ]
          },
          "metadata": {},
          "execution_count": 22
        }
      ]
    },
    {
      "cell_type": "code",
      "source": [
        "df_clean.shape[0]"
      ],
      "metadata": {
        "colab": {
          "base_uri": "https://localhost:8080/"
        },
        "id": "45p-Gpp1wlFv",
        "outputId": "21d3c2ba-8808-4942-e659-4b359b233392"
      },
      "id": "45p-Gpp1wlFv",
      "execution_count": 23,
      "outputs": [
        {
          "output_type": "execute_result",
          "data": {
            "text/plain": [
              "275294"
            ]
          },
          "metadata": {},
          "execution_count": 23
        }
      ]
    },
    {
      "cell_type": "markdown",
      "source": [
        "## Analyze Data"
      ],
      "metadata": {
        "id": "8P-LazgXy6Ke"
      },
      "id": "8P-LazgXy6Ke"
    },
    {
      "cell_type": "markdown",
      "source": [
        "### Question 1: Should the company sell its software for \\$39 or \\$59?"
      ],
      "metadata": {
        "id": "K_tgAv9OehWs"
      },
      "id": "K_tgAv9OehWs"
    },
    {
      "cell_type": "code",
      "source": [
        "# H0: test and control have the same conversion rate.\n",
        "# H1: test's CVR < control's CVR.\n",
        "\n",
        "original_data = stats.ttest_ind(df_clean[df_clean['test'] == 1]['converted'], \n",
        "                                df_clean[df_clean['test'] == 0]['converted'], \n",
        "                                equal_var=False,\n",
        "                                alternative = 'less') #test < control"
      ],
      "metadata": {
        "id": "6yfPGv1Dq9a6"
      },
      "id": "6yfPGv1Dq9a6",
      "execution_count": 33,
      "outputs": []
    },
    {
      "cell_type": "code",
      "source": [
        "original_data"
      ],
      "metadata": {
        "colab": {
          "base_uri": "https://localhost:8080/"
        },
        "id": "HP_72AvuU-7_",
        "outputId": "1212e01c-6a5c-446d-f021-131ebe8ed784"
      },
      "id": "HP_72AvuU-7_",
      "execution_count": 34,
      "outputs": [
        {
          "output_type": "execute_result",
          "data": {
            "text/plain": [
              "Ttest_indResult(statistic=-8.420151430039141, pvalue=1.890743705181808e-17)"
            ]
          },
          "metadata": {},
          "execution_count": 34
        }
      ]
    },
    {
      "cell_type": "markdown",
      "source": [
        "With this small a pval, we have sufficient evidence to reject the null and conclude that test (\\$59)'s CVR is smaller than control (\\$39)'s CVR. "
      ],
      "metadata": {
        "id": "XMJNTh0k38gL"
      },
      "id": "XMJNTh0k38gL"
    },
    {
      "cell_type": "code",
      "source": [
        "df_clean[df_clean['test'] == 1]['converted'].mean()/df_clean[df_clean['test'] == 0]['converted'].mean()-1"
      ],
      "metadata": {
        "colab": {
          "base_uri": "https://localhost:8080/"
        },
        "id": "NMovtMgVsKR_",
        "outputId": "2d45304f-92e7-4eb4-e8e0-a518f6fd7841"
      },
      "id": "NMovtMgVsKR_",
      "execution_count": 36,
      "outputs": [
        {
          "output_type": "execute_result",
          "data": {
            "text/plain": [
              "-0.2186374368252425"
            ]
          },
          "metadata": {},
          "execution_count": 36
        }
      ]
    },
    {
      "cell_type": "markdown",
      "source": [
        "### Answer: test results (using \\$59 price point) underperformed the control group (using the \\$39 price point). People did not resonate very well with the price spike. Company should continue to use the \\$39 price point."
      ],
      "metadata": {
        "id": "aRpY2eSOw0T6"
      },
      "id": "aRpY2eSOw0T6"
    },
    {
      "cell_type": "markdown",
      "source": [
        "### Question 2: The VP of Product is interested in having a holistic view into user behavior, especially focusing on actionable insights that might increase conversion rate. What are your main findings looking at the data?"
      ],
      "metadata": {
        "id": "gu_0L-mNVBkN"
      },
      "id": "gu_0L-mNVBkN"
    },
    {
      "cell_type": "code",
      "source": [
        "df_clean.converted.mean()"
      ],
      "metadata": {
        "colab": {
          "base_uri": "https://localhost:8080/"
        },
        "id": "vQPI430q0-4o",
        "outputId": "f72eb093-d48d-4493-f63c-b99f92ab7304"
      },
      "id": "vQPI430q0-4o",
      "execution_count": 44,
      "outputs": [
        {
          "output_type": "execute_result",
          "data": {
            "text/plain": [
              "0.01821325564669045"
            ]
          },
          "metadata": {},
          "execution_count": 44
        }
      ]
    },
    {
      "cell_type": "code",
      "source": [
        "df_clean_copy = df_clean.copy()"
      ],
      "metadata": {
        "id": "DwKVQhNYY4e1"
      },
      "id": "DwKVQhNYY4e1",
      "execution_count": 37,
      "outputs": []
    },
    {
      "cell_type": "code",
      "source": [
        "df_clean_copy = df_clean_copy[['source','device','operative_system','price','converted']]"
      ],
      "metadata": {
        "id": "2ewfut6RZ1S1"
      },
      "id": "2ewfut6RZ1S1",
      "execution_count": 38,
      "outputs": []
    },
    {
      "cell_type": "code",
      "source": [
        "df_clean_copy_dummie = pd.get_dummies(df_clean_copy)"
      ],
      "metadata": {
        "id": "00uCv4fhZEwY"
      },
      "id": "00uCv4fhZEwY",
      "execution_count": 39,
      "outputs": []
    },
    {
      "cell_type": "code",
      "source": [
        "df_clean_copy_dummie.head()"
      ],
      "metadata": {
        "colab": {
          "base_uri": "https://localhost:8080/",
          "height": 287
        },
        "id": "ZvA2LUwYKFvH",
        "outputId": "38510027-fa74-4616-a2a5-664323f0f365"
      },
      "id": "ZvA2LUwYKFvH",
      "execution_count": 40,
      "outputs": [
        {
          "output_type": "execute_result",
          "data": {
            "text/html": [
              "\n",
              "  <div id=\"df-ce3a88fe-ce37-4ad8-be8c-70cef9381d8a\">\n",
              "    <div class=\"colab-df-container\">\n",
              "      <div>\n",
              "<style scoped>\n",
              "    .dataframe tbody tr th:only-of-type {\n",
              "        vertical-align: middle;\n",
              "    }\n",
              "\n",
              "    .dataframe tbody tr th {\n",
              "        vertical-align: top;\n",
              "    }\n",
              "\n",
              "    .dataframe thead th {\n",
              "        text-align: right;\n",
              "    }\n",
              "</style>\n",
              "<table border=\"1\" class=\"dataframe\">\n",
              "  <thead>\n",
              "    <tr style=\"text-align: right;\">\n",
              "      <th></th>\n",
              "      <th>price</th>\n",
              "      <th>converted</th>\n",
              "      <th>source_ads-bing</th>\n",
              "      <th>source_ads-google</th>\n",
              "      <th>source_ads-yahoo</th>\n",
              "      <th>source_ads_facebook</th>\n",
              "      <th>source_ads_other</th>\n",
              "      <th>source_direct_traffic</th>\n",
              "      <th>source_friend_referral</th>\n",
              "      <th>source_seo-bing</th>\n",
              "      <th>source_seo-google</th>\n",
              "      <th>source_seo-other</th>\n",
              "      <th>source_seo-yahoo</th>\n",
              "      <th>source_seo_facebook</th>\n",
              "      <th>device_mobile</th>\n",
              "      <th>device_web</th>\n",
              "      <th>operative_system_android</th>\n",
              "      <th>operative_system_iOS</th>\n",
              "      <th>operative_system_linux</th>\n",
              "      <th>operative_system_mac</th>\n",
              "      <th>operative_system_other</th>\n",
              "      <th>operative_system_windows</th>\n",
              "    </tr>\n",
              "  </thead>\n",
              "  <tbody>\n",
              "    <tr>\n",
              "      <th>0</th>\n",
              "      <td>39</td>\n",
              "      <td>0</td>\n",
              "      <td>0</td>\n",
              "      <td>0</td>\n",
              "      <td>0</td>\n",
              "      <td>1</td>\n",
              "      <td>0</td>\n",
              "      <td>0</td>\n",
              "      <td>0</td>\n",
              "      <td>0</td>\n",
              "      <td>0</td>\n",
              "      <td>0</td>\n",
              "      <td>0</td>\n",
              "      <td>0</td>\n",
              "      <td>1</td>\n",
              "      <td>0</td>\n",
              "      <td>0</td>\n",
              "      <td>1</td>\n",
              "      <td>0</td>\n",
              "      <td>0</td>\n",
              "      <td>0</td>\n",
              "      <td>0</td>\n",
              "    </tr>\n",
              "    <tr>\n",
              "      <th>1</th>\n",
              "      <td>39</td>\n",
              "      <td>0</td>\n",
              "      <td>0</td>\n",
              "      <td>0</td>\n",
              "      <td>0</td>\n",
              "      <td>0</td>\n",
              "      <td>0</td>\n",
              "      <td>0</td>\n",
              "      <td>0</td>\n",
              "      <td>0</td>\n",
              "      <td>1</td>\n",
              "      <td>0</td>\n",
              "      <td>0</td>\n",
              "      <td>0</td>\n",
              "      <td>1</td>\n",
              "      <td>0</td>\n",
              "      <td>1</td>\n",
              "      <td>0</td>\n",
              "      <td>0</td>\n",
              "      <td>0</td>\n",
              "      <td>0</td>\n",
              "      <td>0</td>\n",
              "    </tr>\n",
              "    <tr>\n",
              "      <th>2</th>\n",
              "      <td>39</td>\n",
              "      <td>0</td>\n",
              "      <td>1</td>\n",
              "      <td>0</td>\n",
              "      <td>0</td>\n",
              "      <td>0</td>\n",
              "      <td>0</td>\n",
              "      <td>0</td>\n",
              "      <td>0</td>\n",
              "      <td>0</td>\n",
              "      <td>0</td>\n",
              "      <td>0</td>\n",
              "      <td>0</td>\n",
              "      <td>0</td>\n",
              "      <td>1</td>\n",
              "      <td>0</td>\n",
              "      <td>1</td>\n",
              "      <td>0</td>\n",
              "      <td>0</td>\n",
              "      <td>0</td>\n",
              "      <td>0</td>\n",
              "      <td>0</td>\n",
              "    </tr>\n",
              "    <tr>\n",
              "      <th>3</th>\n",
              "      <td>59</td>\n",
              "      <td>0</td>\n",
              "      <td>0</td>\n",
              "      <td>0</td>\n",
              "      <td>0</td>\n",
              "      <td>0</td>\n",
              "      <td>0</td>\n",
              "      <td>1</td>\n",
              "      <td>0</td>\n",
              "      <td>0</td>\n",
              "      <td>0</td>\n",
              "      <td>0</td>\n",
              "      <td>0</td>\n",
              "      <td>0</td>\n",
              "      <td>1</td>\n",
              "      <td>0</td>\n",
              "      <td>0</td>\n",
              "      <td>1</td>\n",
              "      <td>0</td>\n",
              "      <td>0</td>\n",
              "      <td>0</td>\n",
              "      <td>0</td>\n",
              "    </tr>\n",
              "    <tr>\n",
              "      <th>4</th>\n",
              "      <td>39</td>\n",
              "      <td>0</td>\n",
              "      <td>0</td>\n",
              "      <td>0</td>\n",
              "      <td>0</td>\n",
              "      <td>1</td>\n",
              "      <td>0</td>\n",
              "      <td>0</td>\n",
              "      <td>0</td>\n",
              "      <td>0</td>\n",
              "      <td>0</td>\n",
              "      <td>0</td>\n",
              "      <td>0</td>\n",
              "      <td>0</td>\n",
              "      <td>0</td>\n",
              "      <td>1</td>\n",
              "      <td>0</td>\n",
              "      <td>0</td>\n",
              "      <td>0</td>\n",
              "      <td>1</td>\n",
              "      <td>0</td>\n",
              "      <td>0</td>\n",
              "    </tr>\n",
              "  </tbody>\n",
              "</table>\n",
              "</div>\n",
              "      <button class=\"colab-df-convert\" onclick=\"convertToInteractive('df-ce3a88fe-ce37-4ad8-be8c-70cef9381d8a')\"\n",
              "              title=\"Convert this dataframe to an interactive table.\"\n",
              "              style=\"display:none;\">\n",
              "        \n",
              "  <svg xmlns=\"http://www.w3.org/2000/svg\" height=\"24px\"viewBox=\"0 0 24 24\"\n",
              "       width=\"24px\">\n",
              "    <path d=\"M0 0h24v24H0V0z\" fill=\"none\"/>\n",
              "    <path d=\"M18.56 5.44l.94 2.06.94-2.06 2.06-.94-2.06-.94-.94-2.06-.94 2.06-2.06.94zm-11 1L8.5 8.5l.94-2.06 2.06-.94-2.06-.94L8.5 2.5l-.94 2.06-2.06.94zm10 10l.94 2.06.94-2.06 2.06-.94-2.06-.94-.94-2.06-.94 2.06-2.06.94z\"/><path d=\"M17.41 7.96l-1.37-1.37c-.4-.4-.92-.59-1.43-.59-.52 0-1.04.2-1.43.59L10.3 9.45l-7.72 7.72c-.78.78-.78 2.05 0 2.83L4 21.41c.39.39.9.59 1.41.59.51 0 1.02-.2 1.41-.59l7.78-7.78 2.81-2.81c.8-.78.8-2.07 0-2.86zM5.41 20L4 18.59l7.72-7.72 1.47 1.35L5.41 20z\"/>\n",
              "  </svg>\n",
              "      </button>\n",
              "      \n",
              "  <style>\n",
              "    .colab-df-container {\n",
              "      display:flex;\n",
              "      flex-wrap:wrap;\n",
              "      gap: 12px;\n",
              "    }\n",
              "\n",
              "    .colab-df-convert {\n",
              "      background-color: #E8F0FE;\n",
              "      border: none;\n",
              "      border-radius: 50%;\n",
              "      cursor: pointer;\n",
              "      display: none;\n",
              "      fill: #1967D2;\n",
              "      height: 32px;\n",
              "      padding: 0 0 0 0;\n",
              "      width: 32px;\n",
              "    }\n",
              "\n",
              "    .colab-df-convert:hover {\n",
              "      background-color: #E2EBFA;\n",
              "      box-shadow: 0px 1px 2px rgba(60, 64, 67, 0.3), 0px 1px 3px 1px rgba(60, 64, 67, 0.15);\n",
              "      fill: #174EA6;\n",
              "    }\n",
              "\n",
              "    [theme=dark] .colab-df-convert {\n",
              "      background-color: #3B4455;\n",
              "      fill: #D2E3FC;\n",
              "    }\n",
              "\n",
              "    [theme=dark] .colab-df-convert:hover {\n",
              "      background-color: #434B5C;\n",
              "      box-shadow: 0px 1px 3px 1px rgba(0, 0, 0, 0.15);\n",
              "      filter: drop-shadow(0px 1px 2px rgba(0, 0, 0, 0.3));\n",
              "      fill: #FFFFFF;\n",
              "    }\n",
              "  </style>\n",
              "\n",
              "      <script>\n",
              "        const buttonEl =\n",
              "          document.querySelector('#df-ce3a88fe-ce37-4ad8-be8c-70cef9381d8a button.colab-df-convert');\n",
              "        buttonEl.style.display =\n",
              "          google.colab.kernel.accessAllowed ? 'block' : 'none';\n",
              "\n",
              "        async function convertToInteractive(key) {\n",
              "          const element = document.querySelector('#df-ce3a88fe-ce37-4ad8-be8c-70cef9381d8a');\n",
              "          const dataTable =\n",
              "            await google.colab.kernel.invokeFunction('convertToInteractive',\n",
              "                                                     [key], {});\n",
              "          if (!dataTable) return;\n",
              "\n",
              "          const docLinkHtml = 'Like what you see? Visit the ' +\n",
              "            '<a target=\"_blank\" href=https://colab.research.google.com/notebooks/data_table.ipynb>data table notebook</a>'\n",
              "            + ' to learn more about interactive tables.';\n",
              "          element.innerHTML = '';\n",
              "          dataTable['output_type'] = 'display_data';\n",
              "          await google.colab.output.renderOutput(dataTable, element);\n",
              "          const docLink = document.createElement('div');\n",
              "          docLink.innerHTML = docLinkHtml;\n",
              "          element.appendChild(docLink);\n",
              "        }\n",
              "      </script>\n",
              "    </div>\n",
              "  </div>\n",
              "  "
            ],
            "text/plain": [
              "   price  converted  ...  operative_system_other  operative_system_windows\n",
              "0     39          0  ...                       0                         0\n",
              "1     39          0  ...                       0                         0\n",
              "2     39          0  ...                       0                         0\n",
              "3     59          0  ...                       0                         0\n",
              "4     39          0  ...                       0                         0\n",
              "\n",
              "[5 rows x 22 columns]"
            ]
          },
          "metadata": {},
          "execution_count": 40
        }
      ]
    },
    {
      "cell_type": "code",
      "source": [
        "X_train = df_clean_copy_dummie.loc[:, df_clean_copy_dummie.columns != 'converted']"
      ],
      "metadata": {
        "id": "eIqyfkMDb0mK"
      },
      "id": "eIqyfkMDb0mK",
      "execution_count": 41,
      "outputs": []
    },
    {
      "cell_type": "code",
      "source": [
        "y_train = df_clean_copy_dummie.loc[:, df_clean_copy_dummie.columns == 'converted']"
      ],
      "metadata": {
        "id": "vDXR0dYtcPRc"
      },
      "id": "vDXR0dYtcPRc",
      "execution_count": 42,
      "outputs": []
    },
    {
      "cell_type": "code",
      "source": [
        "dec_tr = DecisionTreeClassifier(max_depth = 4)\n",
        "dec_tr.fit(X_train, y_train)\n",
        "dec_tr_graph = export_graphviz(dec_tr, out_file=None, feature_names=X_train.columns,\n",
        "                           proportion=True, filled=True, leaves_parallel=True)\n",
        "graph = graphviz.Source(dec_tr_graph, format=\"png\") \n",
        "graph"
      ],
      "metadata": {
        "colab": {
          "base_uri": "https://localhost:8080/",
          "height": 688
        },
        "id": "Y2b0pqTHcZie",
        "outputId": "fbfd6976-79cf-4643-cfc8-a60a4bf35a1b"
      },
      "id": "Y2b0pqTHcZie",
      "execution_count": 43,
      "outputs": [
        {
          "output_type": "execute_result",
          "data": {
            "text/plain": [
              "<graphviz.files.Source at 0x7fa430650a50>"
            ],
            "image/svg+xml": "<?xml version=\"1.0\" encoding=\"UTF-8\" standalone=\"no\"?>\n<!DOCTYPE svg PUBLIC \"-//W3C//DTD SVG 1.1//EN\"\n \"http://www.w3.org/Graphics/SVG/1.1/DTD/svg11.dtd\">\n<!-- Generated by graphviz version 2.40.1 (20161225.0304)\n -->\n<!-- Title: Tree Pages: 1 -->\n<svg width=\"2362pt\" height=\"485pt\"\n viewBox=\"0.00 0.00 2362.00 484.50\" xmlns=\"http://www.w3.org/2000/svg\" xmlns:xlink=\"http://www.w3.org/1999/xlink\">\n<g id=\"graph0\" class=\"graph\" transform=\"scale(1 1) rotate(0) translate(4 480.5)\">\n<title>Tree</title>\n<polygon fill=\"#ffffff\" stroke=\"transparent\" points=\"-4,4 -4,-480.5 2358,-480.5 2358,4 -4,4\"/>\n<!-- 0 -->\n<g id=\"node1\" class=\"node\">\n<title>0</title>\n<polygon fill=\"#e5833d\" stroke=\"#000000\" points=\"1460.5,-476.5 1257.5,-476.5 1257.5,-408.5 1460.5,-408.5 1460.5,-476.5\"/>\n<text text-anchor=\"middle\" x=\"1359\" y=\"-461.3\" font-family=\"Helvetica,sans-Serif\" font-size=\"14.00\" fill=\"#000000\">source_friend_referral &lt;= 0.5</text>\n<text text-anchor=\"middle\" x=\"1359\" y=\"-446.3\" font-family=\"Helvetica,sans-Serif\" font-size=\"14.00\" fill=\"#000000\">gini = 0.036</text>\n<text text-anchor=\"middle\" x=\"1359\" y=\"-431.3\" font-family=\"Helvetica,sans-Serif\" font-size=\"14.00\" fill=\"#000000\">samples = 100.0%</text>\n<text text-anchor=\"middle\" x=\"1359\" y=\"-416.3\" font-family=\"Helvetica,sans-Serif\" font-size=\"14.00\" fill=\"#000000\">value = [0.982, 0.018]</text>\n</g>\n<!-- 1 -->\n<g id=\"node2\" class=\"node\">\n<title>1</title>\n<polygon fill=\"#e5833c\" stroke=\"#000000\" points=\"1123,-372.5 915,-372.5 915,-304.5 1123,-304.5 1123,-372.5\"/>\n<text text-anchor=\"middle\" x=\"1019\" y=\"-357.3\" font-family=\"Helvetica,sans-Serif\" font-size=\"14.00\" fill=\"#000000\">operative_system_iOS &lt;= 0.5</text>\n<text text-anchor=\"middle\" x=\"1019\" y=\"-342.3\" font-family=\"Helvetica,sans-Serif\" font-size=\"14.00\" fill=\"#000000\">gini = 0.033</text>\n<text text-anchor=\"middle\" x=\"1019\" y=\"-327.3\" font-family=\"Helvetica,sans-Serif\" font-size=\"14.00\" fill=\"#000000\">samples = 93.5%</text>\n<text text-anchor=\"middle\" x=\"1019\" y=\"-312.3\" font-family=\"Helvetica,sans-Serif\" font-size=\"14.00\" fill=\"#000000\">value = [0.983, 0.017]</text>\n</g>\n<!-- 0&#45;&gt;1 -->\n<g id=\"edge1\" class=\"edge\">\n<title>0&#45;&gt;1</title>\n<path fill=\"none\" stroke=\"#000000\" d=\"M1257.4493,-411.4374C1218.2295,-399.4408 1173.1746,-385.6593 1132.8634,-373.3288\"/>\n<polygon fill=\"#000000\" stroke=\"#000000\" points=\"1133.8517,-369.9711 1123.2653,-370.3929 1131.8041,-376.6649 1133.8517,-369.9711\"/>\n<text text-anchor=\"middle\" x=\"1134.999\" y=\"-388.7682\" font-family=\"Helvetica,sans-Serif\" font-size=\"14.00\" fill=\"#000000\">True</text>\n</g>\n<!-- 16 -->\n<g id=\"node17\" class=\"node\">\n<title>16</title>\n<polygon fill=\"#e68641\" stroke=\"#000000\" points=\"1751,-372.5 1595,-372.5 1595,-304.5 1751,-304.5 1751,-372.5\"/>\n<text text-anchor=\"middle\" x=\"1673\" y=\"-357.3\" font-family=\"Helvetica,sans-Serif\" font-size=\"14.00\" fill=\"#000000\">price &lt;= 49.0</text>\n<text text-anchor=\"middle\" x=\"1673\" y=\"-342.3\" font-family=\"Helvetica,sans-Serif\" font-size=\"14.00\" fill=\"#000000\">gini = 0.073</text>\n<text text-anchor=\"middle\" x=\"1673\" y=\"-327.3\" font-family=\"Helvetica,sans-Serif\" font-size=\"14.00\" fill=\"#000000\">samples = 6.5%</text>\n<text text-anchor=\"middle\" x=\"1673\" y=\"-312.3\" font-family=\"Helvetica,sans-Serif\" font-size=\"14.00\" fill=\"#000000\">value = [0.962, 0.038]</text>\n</g>\n<!-- 0&#45;&gt;16 -->\n<g id=\"edge16\" class=\"edge\">\n<title>0&#45;&gt;16</title>\n<path fill=\"none\" stroke=\"#000000\" d=\"M1460.5132,-408.8778C1500.7346,-395.556 1546.532,-380.3875 1585.2845,-367.5523\"/>\n<polygon fill=\"#000000\" stroke=\"#000000\" points=\"1586.585,-370.8086 1594.9774,-364.3419 1584.3841,-364.1636 1586.585,-370.8086\"/>\n<text text-anchor=\"middle\" x=\"1583.7543\" y=\"-382.9811\" font-family=\"Helvetica,sans-Serif\" font-size=\"14.00\" fill=\"#000000\">False</text>\n</g>\n<!-- 2 -->\n<g id=\"node3\" class=\"node\">\n<title>2</title>\n<polygon fill=\"#e5833c\" stroke=\"#000000\" points=\"616,-268.5 404,-268.5 404,-200.5 616,-200.5 616,-268.5\"/>\n<text text-anchor=\"middle\" x=\"510\" y=\"-253.3\" font-family=\"Helvetica,sans-Serif\" font-size=\"14.00\" fill=\"#000000\">operative_system_mac &lt;= 0.5</text>\n<text text-anchor=\"middle\" x=\"510\" y=\"-238.3\" font-family=\"Helvetica,sans-Serif\" font-size=\"14.00\" fill=\"#000000\">gini = 0.03</text>\n<text text-anchor=\"middle\" x=\"510\" y=\"-223.3\" font-family=\"Helvetica,sans-Serif\" font-size=\"14.00\" fill=\"#000000\">samples = 65.4%</text>\n<text text-anchor=\"middle\" x=\"510\" y=\"-208.3\" font-family=\"Helvetica,sans-Serif\" font-size=\"14.00\" fill=\"#000000\">value = [0.985, 0.015]</text>\n</g>\n<!-- 1&#45;&gt;2 -->\n<g id=\"edge2\" class=\"edge\">\n<title>1&#45;&gt;2</title>\n<path fill=\"none\" stroke=\"#000000\" d=\"M914.768,-317.2031C830.8913,-300.0652 713.0879,-275.9954 626.1866,-258.2395\"/>\n<polygon fill=\"#000000\" stroke=\"#000000\" points=\"626.7789,-254.7883 616.2806,-256.2155 625.3775,-261.6466 626.7789,-254.7883\"/>\n</g>\n<!-- 9 -->\n<g id=\"node10\" class=\"node\">\n<title>9</title>\n<polygon fill=\"#e6843d\" stroke=\"#000000\" points=\"1114.5,-268.5 923.5,-268.5 923.5,-200.5 1114.5,-200.5 1114.5,-268.5\"/>\n<text text-anchor=\"middle\" x=\"1019\" y=\"-253.3\" font-family=\"Helvetica,sans-Serif\" font-size=\"14.00\" fill=\"#000000\">source_direct_traffic &lt;= 0.5</text>\n<text text-anchor=\"middle\" x=\"1019\" y=\"-238.3\" font-family=\"Helvetica,sans-Serif\" font-size=\"14.00\" fill=\"#000000\">gini = 0.041</text>\n<text text-anchor=\"middle\" x=\"1019\" y=\"-223.3\" font-family=\"Helvetica,sans-Serif\" font-size=\"14.00\" fill=\"#000000\">samples = 28.1%</text>\n<text text-anchor=\"middle\" x=\"1019\" y=\"-208.3\" font-family=\"Helvetica,sans-Serif\" font-size=\"14.00\" fill=\"#000000\">value = [0.979, 0.021]</text>\n</g>\n<!-- 1&#45;&gt;9 -->\n<g id=\"edge9\" class=\"edge\">\n<title>1&#45;&gt;9</title>\n<path fill=\"none\" stroke=\"#000000\" d=\"M1019,-304.4465C1019,-296.276 1019,-287.4318 1019,-278.8697\"/>\n<polygon fill=\"#000000\" stroke=\"#000000\" points=\"1022.5001,-278.63 1019,-268.63 1015.5001,-278.63 1022.5001,-278.63\"/>\n</g>\n<!-- 3 -->\n<g id=\"node4\" class=\"node\">\n<title>3</title>\n<polygon fill=\"#e5833c\" stroke=\"#000000\" points=\"339.5,-164.5 148.5,-164.5 148.5,-96.5 339.5,-96.5 339.5,-164.5\"/>\n<text text-anchor=\"middle\" x=\"244\" y=\"-149.3\" font-family=\"Helvetica,sans-Serif\" font-size=\"14.00\" fill=\"#000000\">source_direct_traffic &lt;= 0.5</text>\n<text text-anchor=\"middle\" x=\"244\" y=\"-134.3\" font-family=\"Helvetica,sans-Serif\" font-size=\"14.00\" fill=\"#000000\">gini = 0.028</text>\n<text text-anchor=\"middle\" x=\"244\" y=\"-119.3\" font-family=\"Helvetica,sans-Serif\" font-size=\"14.00\" fill=\"#000000\">samples = 58.0%</text>\n<text text-anchor=\"middle\" x=\"244\" y=\"-104.3\" font-family=\"Helvetica,sans-Serif\" font-size=\"14.00\" fill=\"#000000\">value = [0.986, 0.014]</text>\n</g>\n<!-- 2&#45;&gt;3 -->\n<g id=\"edge3\" class=\"edge\">\n<title>2&#45;&gt;3</title>\n<path fill=\"none\" stroke=\"#000000\" d=\"M422.9017,-200.4465C396.6075,-190.1661 367.5851,-178.819 340.7047,-168.3093\"/>\n<polygon fill=\"#000000\" stroke=\"#000000\" points=\"341.882,-165.0117 331.294,-164.63 339.333,-171.5311 341.882,-165.0117\"/>\n</g>\n<!-- 6 -->\n<g id=\"node7\" class=\"node\">\n<title>6</title>\n<polygon fill=\"#e6843e\" stroke=\"#000000\" points=\"588,-164.5 432,-164.5 432,-96.5 588,-96.5 588,-164.5\"/>\n<text text-anchor=\"middle\" x=\"510\" y=\"-149.3\" font-family=\"Helvetica,sans-Serif\" font-size=\"14.00\" fill=\"#000000\">price &lt;= 49.0</text>\n<text text-anchor=\"middle\" x=\"510\" y=\"-134.3\" font-family=\"Helvetica,sans-Serif\" font-size=\"14.00\" fill=\"#000000\">gini = 0.045</text>\n<text text-anchor=\"middle\" x=\"510\" y=\"-119.3\" font-family=\"Helvetica,sans-Serif\" font-size=\"14.00\" fill=\"#000000\">samples = 7.4%</text>\n<text text-anchor=\"middle\" x=\"510\" y=\"-104.3\" font-family=\"Helvetica,sans-Serif\" font-size=\"14.00\" fill=\"#000000\">value = [0.977, 0.023]</text>\n</g>\n<!-- 2&#45;&gt;6 -->\n<g id=\"edge6\" class=\"edge\">\n<title>2&#45;&gt;6</title>\n<path fill=\"none\" stroke=\"#000000\" d=\"M510,-200.4465C510,-192.276 510,-183.4318 510,-174.8697\"/>\n<polygon fill=\"#000000\" stroke=\"#000000\" points=\"513.5001,-174.63 510,-164.63 506.5001,-174.63 513.5001,-174.63\"/>\n</g>\n<!-- 4 -->\n<g id=\"node5\" class=\"node\">\n<title>4</title>\n<polygon fill=\"#e5833c\" stroke=\"#000000\" points=\"156,-53 0,-53 0,0 156,0 156,-53\"/>\n<text text-anchor=\"middle\" x=\"78\" y=\"-37.8\" font-family=\"Helvetica,sans-Serif\" font-size=\"14.00\" fill=\"#000000\">gini = 0.03</text>\n<text text-anchor=\"middle\" x=\"78\" y=\"-22.8\" font-family=\"Helvetica,sans-Serif\" font-size=\"14.00\" fill=\"#000000\">samples = 46.1%</text>\n<text text-anchor=\"middle\" x=\"78\" y=\"-7.8\" font-family=\"Helvetica,sans-Serif\" font-size=\"14.00\" fill=\"#000000\">value = [0.985, 0.015]</text>\n</g>\n<!-- 3&#45;&gt;4 -->\n<g id=\"edge4\" class=\"edge\">\n<title>3&#45;&gt;4</title>\n<path fill=\"none\" stroke=\"#000000\" d=\"M189.6454,-96.4465C170.1299,-84.22 148.2063,-70.4847 128.9871,-58.4437\"/>\n<polygon fill=\"#000000\" stroke=\"#000000\" points=\"130.6979,-55.3854 120.3654,-53.0422 126.9814,-61.3174 130.6979,-55.3854\"/>\n</g>\n<!-- 5 -->\n<g id=\"node6\" class=\"node\">\n<title>5</title>\n<polygon fill=\"#e5823b\" stroke=\"#000000\" points=\"314,-53 174,-53 174,0 314,0 314,-53\"/>\n<text text-anchor=\"middle\" x=\"244\" y=\"-37.8\" font-family=\"Helvetica,sans-Serif\" font-size=\"14.00\" fill=\"#000000\">gini = 0.019</text>\n<text text-anchor=\"middle\" x=\"244\" y=\"-22.8\" font-family=\"Helvetica,sans-Serif\" font-size=\"14.00\" fill=\"#000000\">samples = 11.9%</text>\n<text text-anchor=\"middle\" x=\"244\" y=\"-7.8\" font-family=\"Helvetica,sans-Serif\" font-size=\"14.00\" fill=\"#000000\">value = [0.99, 0.01]</text>\n</g>\n<!-- 3&#45;&gt;5 -->\n<g id=\"edge5\" class=\"edge\">\n<title>3&#45;&gt;5</title>\n<path fill=\"none\" stroke=\"#000000\" d=\"M244,-96.4465C244,-85.7621 244,-73.9254 244,-63.0742\"/>\n<polygon fill=\"#000000\" stroke=\"#000000\" points=\"247.5001,-63.0421 244,-53.0422 240.5001,-63.0422 247.5001,-63.0421\"/>\n</g>\n<!-- 7 -->\n<g id=\"node8\" class=\"node\">\n<title>7</title>\n<polygon fill=\"#e6843e\" stroke=\"#000000\" points=\"488,-53 332,-53 332,0 488,0 488,-53\"/>\n<text text-anchor=\"middle\" x=\"410\" y=\"-37.8\" font-family=\"Helvetica,sans-Serif\" font-size=\"14.00\" fill=\"#000000\">gini = 0.049</text>\n<text text-anchor=\"middle\" x=\"410\" y=\"-22.8\" font-family=\"Helvetica,sans-Serif\" font-size=\"14.00\" fill=\"#000000\">samples = 4.8%</text>\n<text text-anchor=\"middle\" x=\"410\" y=\"-7.8\" font-family=\"Helvetica,sans-Serif\" font-size=\"14.00\" fill=\"#000000\">value = [0.975, 0.025]</text>\n</g>\n<!-- 6&#45;&gt;7 -->\n<g id=\"edge7\" class=\"edge\">\n<title>6&#45;&gt;7</title>\n<path fill=\"none\" stroke=\"#000000\" d=\"M477.2563,-96.4465C466.1354,-84.8809 453.7165,-71.9652 442.6064,-60.4107\"/>\n<polygon fill=\"#000000\" stroke=\"#000000\" points=\"444.9754,-57.8246 435.5213,-53.0422 439.9295,-62.6764 444.9754,-57.8246\"/>\n</g>\n<!-- 8 -->\n<g id=\"node9\" class=\"node\">\n<title>8</title>\n<polygon fill=\"#e6833d\" stroke=\"#000000\" points=\"662,-53 506,-53 506,0 662,0 662,-53\"/>\n<text text-anchor=\"middle\" x=\"584\" y=\"-37.8\" font-family=\"Helvetica,sans-Serif\" font-size=\"14.00\" fill=\"#000000\">gini = 0.038</text>\n<text text-anchor=\"middle\" x=\"584\" y=\"-22.8\" font-family=\"Helvetica,sans-Serif\" font-size=\"14.00\" fill=\"#000000\">samples = 2.5%</text>\n<text text-anchor=\"middle\" x=\"584\" y=\"-7.8\" font-family=\"Helvetica,sans-Serif\" font-size=\"14.00\" fill=\"#000000\">value = [0.981, 0.019]</text>\n</g>\n<!-- 6&#45;&gt;8 -->\n<g id=\"edge8\" class=\"edge\">\n<title>6&#45;&gt;8</title>\n<path fill=\"none\" stroke=\"#000000\" d=\"M534.2304,-96.4465C542.2246,-85.2113 551.1254,-72.7021 559.1642,-61.4043\"/>\n<polygon fill=\"#000000\" stroke=\"#000000\" points=\"562.1684,-63.2192 565.1142,-53.0422 556.4649,-59.1609 562.1684,-63.2192\"/>\n</g>\n<!-- 10 -->\n<g id=\"node11\" class=\"node\">\n<title>10</title>\n<polygon fill=\"#e6843d\" stroke=\"#000000\" points=\"1014,-164.5 844,-164.5 844,-96.5 1014,-96.5 1014,-164.5\"/>\n<text text-anchor=\"middle\" x=\"929\" y=\"-149.3\" font-family=\"Helvetica,sans-Serif\" font-size=\"14.00\" fill=\"#000000\">source_ads&#45;bing &lt;= 0.5</text>\n<text text-anchor=\"middle\" x=\"929\" y=\"-134.3\" font-family=\"Helvetica,sans-Serif\" font-size=\"14.00\" fill=\"#000000\">gini = 0.043</text>\n<text text-anchor=\"middle\" x=\"929\" y=\"-119.3\" font-family=\"Helvetica,sans-Serif\" font-size=\"14.00\" fill=\"#000000\">samples = 22.4%</text>\n<text text-anchor=\"middle\" x=\"929\" y=\"-104.3\" font-family=\"Helvetica,sans-Serif\" font-size=\"14.00\" fill=\"#000000\">value = [0.978, 0.022]</text>\n</g>\n<!-- 9&#45;&gt;10 -->\n<g id=\"edge10\" class=\"edge\">\n<title>9&#45;&gt;10</title>\n<path fill=\"none\" stroke=\"#000000\" d=\"M989.5306,-200.4465C981.7607,-191.468 973.2868,-181.6758 965.2064,-172.3385\"/>\n<polygon fill=\"#000000\" stroke=\"#000000\" points=\"967.726,-169.9014 958.5356,-164.63 962.4328,-174.482 967.726,-169.9014\"/>\n</g>\n<!-- 13 -->\n<g id=\"node14\" class=\"node\">\n<title>13</title>\n<polygon fill=\"#e5833c\" stroke=\"#000000\" points=\"1188,-164.5 1032,-164.5 1032,-96.5 1188,-96.5 1188,-164.5\"/>\n<text text-anchor=\"middle\" x=\"1110\" y=\"-149.3\" font-family=\"Helvetica,sans-Serif\" font-size=\"14.00\" fill=\"#000000\">price &lt;= 49.0</text>\n<text text-anchor=\"middle\" x=\"1110\" y=\"-134.3\" font-family=\"Helvetica,sans-Serif\" font-size=\"14.00\" fill=\"#000000\">gini = 0.03</text>\n<text text-anchor=\"middle\" x=\"1110\" y=\"-119.3\" font-family=\"Helvetica,sans-Serif\" font-size=\"14.00\" fill=\"#000000\">samples = 5.7%</text>\n<text text-anchor=\"middle\" x=\"1110\" y=\"-104.3\" font-family=\"Helvetica,sans-Serif\" font-size=\"14.00\" fill=\"#000000\">value = [0.985, 0.015]</text>\n</g>\n<!-- 9&#45;&gt;13 -->\n<g id=\"edge13\" class=\"edge\">\n<title>9&#45;&gt;13</title>\n<path fill=\"none\" stroke=\"#000000\" d=\"M1048.7968,-200.4465C1056.653,-191.468 1065.2212,-181.6758 1073.3913,-172.3385\"/>\n<polygon fill=\"#000000\" stroke=\"#000000\" points=\"1076.1852,-174.4606 1080.1363,-164.63 1070.9171,-169.851 1076.1852,-174.4606\"/>\n</g>\n<!-- 11 -->\n<g id=\"node12\" class=\"node\">\n<title>11</title>\n<polygon fill=\"#e6843e\" stroke=\"#000000\" points=\"836,-53 680,-53 680,0 836,0 836,-53\"/>\n<text text-anchor=\"middle\" x=\"758\" y=\"-37.8\" font-family=\"Helvetica,sans-Serif\" font-size=\"14.00\" fill=\"#000000\">gini = 0.045</text>\n<text text-anchor=\"middle\" x=\"758\" y=\"-22.8\" font-family=\"Helvetica,sans-Serif\" font-size=\"14.00\" fill=\"#000000\">samples = 20.2%</text>\n<text text-anchor=\"middle\" x=\"758\" y=\"-7.8\" font-family=\"Helvetica,sans-Serif\" font-size=\"14.00\" fill=\"#000000\">value = [0.977, 0.023]</text>\n</g>\n<!-- 10&#45;&gt;11 -->\n<g id=\"edge11\" class=\"edge\">\n<title>10&#45;&gt;11</title>\n<path fill=\"none\" stroke=\"#000000\" d=\"M873.0082,-96.4465C852.8144,-84.1649 830.1174,-70.3609 810.2555,-58.2811\"/>\n<polygon fill=\"#000000\" stroke=\"#000000\" points=\"812.0041,-55.2481 801.6414,-53.0422 808.3667,-61.2289 812.0041,-55.2481\"/>\n</g>\n<!-- 12 -->\n<g id=\"node13\" class=\"node\">\n<title>12</title>\n<polygon fill=\"#e5833c\" stroke=\"#000000\" points=\"1010,-53 854,-53 854,0 1010,0 1010,-53\"/>\n<text text-anchor=\"middle\" x=\"932\" y=\"-37.8\" font-family=\"Helvetica,sans-Serif\" font-size=\"14.00\" fill=\"#000000\">gini = 0.029</text>\n<text text-anchor=\"middle\" x=\"932\" y=\"-22.8\" font-family=\"Helvetica,sans-Serif\" font-size=\"14.00\" fill=\"#000000\">samples = 2.2%</text>\n<text text-anchor=\"middle\" x=\"932\" y=\"-7.8\" font-family=\"Helvetica,sans-Serif\" font-size=\"14.00\" fill=\"#000000\">value = [0.985, 0.015]</text>\n</g>\n<!-- 10&#45;&gt;12 -->\n<g id=\"edge12\" class=\"edge\">\n<title>10&#45;&gt;12</title>\n<path fill=\"none\" stroke=\"#000000\" d=\"M929.9823,-96.4465C930.2905,-85.7621 930.632,-73.9254 930.945,-63.0742\"/>\n<polygon fill=\"#000000\" stroke=\"#000000\" points=\"934.4445,-63.139 931.2344,-53.0422 927.4474,-62.9371 934.4445,-63.139\"/>\n</g>\n<!-- 14 -->\n<g id=\"node15\" class=\"node\">\n<title>14</title>\n<polygon fill=\"#e5833c\" stroke=\"#000000\" points=\"1184,-53 1028,-53 1028,0 1184,0 1184,-53\"/>\n<text text-anchor=\"middle\" x=\"1106\" y=\"-37.8\" font-family=\"Helvetica,sans-Serif\" font-size=\"14.00\" fill=\"#000000\">gini = 0.033</text>\n<text text-anchor=\"middle\" x=\"1106\" y=\"-22.8\" font-family=\"Helvetica,sans-Serif\" font-size=\"14.00\" fill=\"#000000\">samples = 3.7%</text>\n<text text-anchor=\"middle\" x=\"1106\" y=\"-7.8\" font-family=\"Helvetica,sans-Serif\" font-size=\"14.00\" fill=\"#000000\">value = [0.983, 0.017]</text>\n</g>\n<!-- 13&#45;&gt;14 -->\n<g id=\"edge14\" class=\"edge\">\n<title>13&#45;&gt;14</title>\n<path fill=\"none\" stroke=\"#000000\" d=\"M1108.6903,-96.4465C1108.2793,-85.7621 1107.8241,-73.9254 1107.4067,-63.0742\"/>\n<polygon fill=\"#000000\" stroke=\"#000000\" points=\"1110.9027,-62.9002 1107.0209,-53.0422 1103.9079,-63.1693 1110.9027,-62.9002\"/>\n</g>\n<!-- 15 -->\n<g id=\"node16\" class=\"node\">\n<title>15</title>\n<polygon fill=\"#e5833c\" stroke=\"#000000\" points=\"1358,-53 1202,-53 1202,0 1358,0 1358,-53\"/>\n<text text-anchor=\"middle\" x=\"1280\" y=\"-37.8\" font-family=\"Helvetica,sans-Serif\" font-size=\"14.00\" fill=\"#000000\">gini = 0.026</text>\n<text text-anchor=\"middle\" x=\"1280\" y=\"-22.8\" font-family=\"Helvetica,sans-Serif\" font-size=\"14.00\" fill=\"#000000\">samples = 2.0%</text>\n<text text-anchor=\"middle\" x=\"1280\" y=\"-7.8\" font-family=\"Helvetica,sans-Serif\" font-size=\"14.00\" fill=\"#000000\">value = [0.987, 0.013]</text>\n</g>\n<!-- 13&#45;&gt;15 -->\n<g id=\"edge15\" class=\"edge\">\n<title>13&#45;&gt;15</title>\n<path fill=\"none\" stroke=\"#000000\" d=\"M1165.6644,-96.4465C1185.7401,-84.1649 1208.3043,-70.3609 1228.0501,-58.2811\"/>\n<polygon fill=\"#000000\" stroke=\"#000000\" points=\"1229.9099,-61.2464 1236.6138,-53.0422 1226.2569,-55.2751 1229.9099,-61.2464\"/>\n</g>\n<!-- 17 -->\n<g id=\"node18\" class=\"node\">\n<title>17</title>\n<polygon fill=\"#e68642\" stroke=\"#000000\" points=\"1777,-268.5 1569,-268.5 1569,-200.5 1777,-200.5 1777,-268.5\"/>\n<text text-anchor=\"middle\" x=\"1673\" y=\"-253.3\" font-family=\"Helvetica,sans-Serif\" font-size=\"14.00\" fill=\"#000000\">operative_system_iOS &lt;= 0.5</text>\n<text text-anchor=\"middle\" x=\"1673\" y=\"-238.3\" font-family=\"Helvetica,sans-Serif\" font-size=\"14.00\" fill=\"#000000\">gini = 0.079</text>\n<text text-anchor=\"middle\" x=\"1673\" y=\"-223.3\" font-family=\"Helvetica,sans-Serif\" font-size=\"14.00\" fill=\"#000000\">samples = 4.1%</text>\n<text text-anchor=\"middle\" x=\"1673\" y=\"-208.3\" font-family=\"Helvetica,sans-Serif\" font-size=\"14.00\" fill=\"#000000\">value = [0.959, 0.041]</text>\n</g>\n<!-- 16&#45;&gt;17 -->\n<g id=\"edge17\" class=\"edge\">\n<title>16&#45;&gt;17</title>\n<path fill=\"none\" stroke=\"#000000\" d=\"M1673,-304.4465C1673,-296.276 1673,-287.4318 1673,-278.8697\"/>\n<polygon fill=\"#000000\" stroke=\"#000000\" points=\"1676.5001,-278.63 1673,-268.63 1669.5001,-278.63 1676.5001,-278.63\"/>\n</g>\n<!-- 22 -->\n<g id=\"node23\" class=\"node\">\n<title>22</title>\n<polygon fill=\"#e68540\" stroke=\"#000000\" points=\"2143,-268.5 1935,-268.5 1935,-200.5 2143,-200.5 2143,-268.5\"/>\n<text text-anchor=\"middle\" x=\"2039\" y=\"-253.3\" font-family=\"Helvetica,sans-Serif\" font-size=\"14.00\" fill=\"#000000\">operative_system_iOS &lt;= 0.5</text>\n<text text-anchor=\"middle\" x=\"2039\" y=\"-238.3\" font-family=\"Helvetica,sans-Serif\" font-size=\"14.00\" fill=\"#000000\">gini = 0.062</text>\n<text text-anchor=\"middle\" x=\"2039\" y=\"-223.3\" font-family=\"Helvetica,sans-Serif\" font-size=\"14.00\" fill=\"#000000\">samples = 2.4%</text>\n<text text-anchor=\"middle\" x=\"2039\" y=\"-208.3\" font-family=\"Helvetica,sans-Serif\" font-size=\"14.00\" fill=\"#000000\">value = [0.968, 0.032]</text>\n</g>\n<!-- 16&#45;&gt;22 -->\n<g id=\"edge22\" class=\"edge\">\n<title>16&#45;&gt;22</title>\n<path fill=\"none\" stroke=\"#000000\" d=\"M1751.0673,-316.317C1801.7739,-301.9085 1868.7149,-282.887 1925.2897,-266.8111\"/>\n<polygon fill=\"#000000\" stroke=\"#000000\" points=\"1926.3367,-270.1522 1934.9993,-264.0521 1924.4234,-263.4188 1926.3367,-270.1522\"/>\n</g>\n<!-- 18 -->\n<g id=\"node19\" class=\"node\">\n<title>18</title>\n<polygon fill=\"#e68641\" stroke=\"#000000\" points=\"1720.5,-164.5 1503.5,-164.5 1503.5,-96.5 1720.5,-96.5 1720.5,-164.5\"/>\n<text text-anchor=\"middle\" x=\"1612\" y=\"-149.3\" font-family=\"Helvetica,sans-Serif\" font-size=\"14.00\" fill=\"#000000\">operative_system_other &lt;= 0.5</text>\n<text text-anchor=\"middle\" x=\"1612\" y=\"-134.3\" font-family=\"Helvetica,sans-Serif\" font-size=\"14.00\" fill=\"#000000\">gini = 0.077</text>\n<text text-anchor=\"middle\" x=\"1612\" y=\"-119.3\" font-family=\"Helvetica,sans-Serif\" font-size=\"14.00\" fill=\"#000000\">samples = 2.9%</text>\n<text text-anchor=\"middle\" x=\"1612\" y=\"-104.3\" font-family=\"Helvetica,sans-Serif\" font-size=\"14.00\" fill=\"#000000\">value = [0.96, 0.04]</text>\n</g>\n<!-- 17&#45;&gt;18 -->\n<g id=\"edge18\" class=\"edge\">\n<title>17&#45;&gt;18</title>\n<path fill=\"none\" stroke=\"#000000\" d=\"M1653.0263,-200.4465C1647.9707,-191.8271 1642.4753,-182.4579 1637.1983,-173.4611\"/>\n<polygon fill=\"#000000\" stroke=\"#000000\" points=\"1640.0969,-171.485 1632.0186,-164.63 1634.0589,-175.0265 1640.0969,-171.485\"/>\n</g>\n<!-- 21 -->\n<g id=\"node22\" class=\"node\">\n<title>21</title>\n<polygon fill=\"#e68742\" stroke=\"#000000\" points=\"1864,-53 1708,-53 1708,0 1864,0 1864,-53\"/>\n<text text-anchor=\"middle\" x=\"1786\" y=\"-37.8\" font-family=\"Helvetica,sans-Serif\" font-size=\"14.00\" fill=\"#000000\">gini = 0.085</text>\n<text text-anchor=\"middle\" x=\"1786\" y=\"-22.8\" font-family=\"Helvetica,sans-Serif\" font-size=\"14.00\" fill=\"#000000\">samples = 1.3%</text>\n<text text-anchor=\"middle\" x=\"1786\" y=\"-7.8\" font-family=\"Helvetica,sans-Serif\" font-size=\"14.00\" fill=\"#000000\">value = [0.955, 0.045]</text>\n</g>\n<!-- 17&#45;&gt;21 -->\n<g id=\"edge21\" class=\"edge\">\n<title>17&#45;&gt;21</title>\n<path fill=\"none\" stroke=\"#000000\" d=\"M1700.3438,-200.3202C1714.5591,-182.5511 1729,-164.5 1729,-164.5 1729,-164.5 1754.2376,-103.3985 1771.1263,-62.5101\"/>\n<polygon fill=\"#000000\" stroke=\"#000000\" points=\"1774.4271,-63.6866 1775.0098,-53.1078 1767.9572,-61.0142 1774.4271,-63.6866\"/>\n</g>\n<!-- 19 -->\n<g id=\"node20\" class=\"node\">\n<title>19</title>\n<polygon fill=\"#e68641\" stroke=\"#000000\" points=\"1516,-53 1376,-53 1376,0 1516,0 1516,-53\"/>\n<text text-anchor=\"middle\" x=\"1446\" y=\"-37.8\" font-family=\"Helvetica,sans-Serif\" font-size=\"14.00\" fill=\"#000000\">gini = 0.078</text>\n<text text-anchor=\"middle\" x=\"1446\" y=\"-22.8\" font-family=\"Helvetica,sans-Serif\" font-size=\"14.00\" fill=\"#000000\">samples = 2.7%</text>\n<text text-anchor=\"middle\" x=\"1446\" y=\"-7.8\" font-family=\"Helvetica,sans-Serif\" font-size=\"14.00\" fill=\"#000000\">value = [0.96, 0.04]</text>\n</g>\n<!-- 18&#45;&gt;19 -->\n<g id=\"edge19\" class=\"edge\">\n<title>18&#45;&gt;19</title>\n<path fill=\"none\" stroke=\"#000000\" d=\"M1557.6454,-96.4465C1538.1299,-84.22 1516.2063,-70.4847 1496.9871,-58.4437\"/>\n<polygon fill=\"#000000\" stroke=\"#000000\" points=\"1498.6979,-55.3854 1488.3654,-53.0422 1494.9814,-61.3174 1498.6979,-55.3854\"/>\n</g>\n<!-- 20 -->\n<g id=\"node21\" class=\"node\">\n<title>20</title>\n<polygon fill=\"#e6853f\" stroke=\"#000000\" points=\"1690,-53 1534,-53 1534,0 1690,0 1690,-53\"/>\n<text text-anchor=\"middle\" x=\"1612\" y=\"-37.8\" font-family=\"Helvetica,sans-Serif\" font-size=\"14.00\" fill=\"#000000\">gini = 0.06</text>\n<text text-anchor=\"middle\" x=\"1612\" y=\"-22.8\" font-family=\"Helvetica,sans-Serif\" font-size=\"14.00\" fill=\"#000000\">samples = 0.2%</text>\n<text text-anchor=\"middle\" x=\"1612\" y=\"-7.8\" font-family=\"Helvetica,sans-Serif\" font-size=\"14.00\" fill=\"#000000\">value = [0.969, 0.031]</text>\n</g>\n<!-- 18&#45;&gt;20 -->\n<g id=\"edge20\" class=\"edge\">\n<title>18&#45;&gt;20</title>\n<path fill=\"none\" stroke=\"#000000\" d=\"M1612,-96.4465C1612,-85.7621 1612,-73.9254 1612,-63.0742\"/>\n<polygon fill=\"#000000\" stroke=\"#000000\" points=\"1615.5001,-63.0421 1612,-53.0422 1608.5001,-63.0422 1615.5001,-63.0421\"/>\n</g>\n<!-- 23 -->\n<g id=\"node24\" class=\"node\">\n<title>23</title>\n<polygon fill=\"#e6853f\" stroke=\"#000000\" points=\"2146,-164.5 1932,-164.5 1932,-96.5 2146,-96.5 2146,-164.5\"/>\n<text text-anchor=\"middle\" x=\"2039\" y=\"-149.3\" font-family=\"Helvetica,sans-Serif\" font-size=\"14.00\" fill=\"#000000\">operative_system_linux &lt;= 0.5</text>\n<text text-anchor=\"middle\" x=\"2039\" y=\"-134.3\" font-family=\"Helvetica,sans-Serif\" font-size=\"14.00\" fill=\"#000000\">gini = 0.054</text>\n<text text-anchor=\"middle\" x=\"2039\" y=\"-119.3\" font-family=\"Helvetica,sans-Serif\" font-size=\"14.00\" fill=\"#000000\">samples = 1.7%</text>\n<text text-anchor=\"middle\" x=\"2039\" y=\"-104.3\" font-family=\"Helvetica,sans-Serif\" font-size=\"14.00\" fill=\"#000000\">value = [0.972, 0.028]</text>\n</g>\n<!-- 22&#45;&gt;23 -->\n<g id=\"edge23\" class=\"edge\">\n<title>22&#45;&gt;23</title>\n<path fill=\"none\" stroke=\"#000000\" d=\"M2039,-200.4465C2039,-192.276 2039,-183.4318 2039,-174.8697\"/>\n<polygon fill=\"#000000\" stroke=\"#000000\" points=\"2042.5001,-174.63 2039,-164.63 2035.5001,-174.63 2042.5001,-174.63\"/>\n</g>\n<!-- 26 -->\n<g id=\"node27\" class=\"node\">\n<title>26</title>\n<polygon fill=\"#e68742\" stroke=\"#000000\" points=\"2354,-53 2198,-53 2198,0 2354,0 2354,-53\"/>\n<text text-anchor=\"middle\" x=\"2276\" y=\"-37.8\" font-family=\"Helvetica,sans-Serif\" font-size=\"14.00\" fill=\"#000000\">gini = 0.08</text>\n<text text-anchor=\"middle\" x=\"2276\" y=\"-22.8\" font-family=\"Helvetica,sans-Serif\" font-size=\"14.00\" fill=\"#000000\">samples = 0.7%</text>\n<text text-anchor=\"middle\" x=\"2276\" y=\"-7.8\" font-family=\"Helvetica,sans-Serif\" font-size=\"14.00\" fill=\"#000000\">value = [0.958, 0.042]</text>\n</g>\n<!-- 22&#45;&gt;26 -->\n<g id=\"edge26\" class=\"edge\">\n<title>22&#45;&gt;26</title>\n<path fill=\"none\" stroke=\"#000000\" d=\"M2095.6407,-200.3202C2125.0867,-182.5511 2155,-164.5 2155,-164.5 2155,-164.5 2210.1685,-101.5805 2246.0025,-60.7121\"/>\n<polygon fill=\"#000000\" stroke=\"#000000\" points=\"2248.7089,-62.9343 2252.67,-53.1078 2243.4455,-58.3193 2248.7089,-62.9343\"/>\n</g>\n<!-- 24 -->\n<g id=\"node25\" class=\"node\">\n<title>24</title>\n<polygon fill=\"#e6853f\" stroke=\"#000000\" points=\"2038,-53 1882,-53 1882,0 2038,0 2038,-53\"/>\n<text text-anchor=\"middle\" x=\"1960\" y=\"-37.8\" font-family=\"Helvetica,sans-Serif\" font-size=\"14.00\" fill=\"#000000\">gini = 0.056</text>\n<text text-anchor=\"middle\" x=\"1960\" y=\"-22.8\" font-family=\"Helvetica,sans-Serif\" font-size=\"14.00\" fill=\"#000000\">samples = 1.6%</text>\n<text text-anchor=\"middle\" x=\"1960\" y=\"-7.8\" font-family=\"Helvetica,sans-Serif\" font-size=\"14.00\" fill=\"#000000\">value = [0.971, 0.029]</text>\n</g>\n<!-- 23&#45;&gt;24 -->\n<g id=\"edge24\" class=\"edge\">\n<title>23&#45;&gt;24</title>\n<path fill=\"none\" stroke=\"#000000\" d=\"M2013.1324,-96.4465C2004.5143,-85.1012 1994.9094,-72.4567 1986.2617,-61.0724\"/>\n<polygon fill=\"#000000\" stroke=\"#000000\" points=\"1988.9979,-58.8882 1980.1618,-53.0422 1983.4237,-63.1224 1988.9979,-58.8882\"/>\n</g>\n<!-- 25 -->\n<g id=\"node26\" class=\"node\">\n<title>25</title>\n<polygon fill=\"#e58139\" stroke=\"#000000\" points=\"2179.5,-53 2056.5,-53 2056.5,0 2179.5,0 2179.5,-53\"/>\n<text text-anchor=\"middle\" x=\"2118\" y=\"-37.8\" font-family=\"Helvetica,sans-Serif\" font-size=\"14.00\" fill=\"#000000\">gini = 0.0</text>\n<text text-anchor=\"middle\" x=\"2118\" y=\"-22.8\" font-family=\"Helvetica,sans-Serif\" font-size=\"14.00\" fill=\"#000000\">samples = 0.1%</text>\n<text text-anchor=\"middle\" x=\"2118\" y=\"-7.8\" font-family=\"Helvetica,sans-Serif\" font-size=\"14.00\" fill=\"#000000\">value = [1.0, 0.0]</text>\n</g>\n<!-- 23&#45;&gt;25 -->\n<g id=\"edge25\" class=\"edge\">\n<title>23&#45;&gt;25</title>\n<path fill=\"none\" stroke=\"#000000\" d=\"M2064.8676,-96.4465C2073.4857,-85.1012 2083.0906,-72.4567 2091.7383,-61.0724\"/>\n<polygon fill=\"#000000\" stroke=\"#000000\" points=\"2094.5763,-63.1224 2097.8382,-53.0422 2089.0021,-58.8882 2094.5763,-63.1224\"/>\n</g>\n</g>\n</svg>\n"
          },
          "metadata": {},
          "execution_count": 43
        }
      ]
    },
    {
      "cell_type": "markdown",
      "source": [
        "We have witnessed the strongest conversion rate of 4.5% by going down the following path.\n",
        "\n",
        "* source_friend_referral -> yes\n",
        "* price = 39\n",
        "* operative_system_iOS -> yes\n",
        "\n",
        "followed by a 4.2% CVR from the following combination:\n",
        "* source_friend_referral -> yes\n",
        "* price = 59\n",
        "* operative_system_iOS -> yes"
      ],
      "metadata": {
        "id": "xLBrjUnaeCJ6"
      },
      "id": "xLBrjUnaeCJ6"
    },
    {
      "cell_type": "code",
      "source": [
        "features = X_train.columns\n",
        "importances = dec_tr.feature_importances_\n",
        "indices = np.argsort(importances)\n",
        "\n",
        "# customized number \n",
        "num_features = 10 \n",
        "\n",
        "plt.figure(figsize=(10,4))\n",
        "plt.title('Feature Importances')\n",
        "\n",
        "# only plot the customized number of features\n",
        "plt.barh(range(num_features), importances[indices[-num_features:]], color='b', align='center')\n",
        "plt.yticks(range(num_features), (features[i] for i in indices[num_features*(-1):]))\n",
        "plt.xlabel('Relative Importance')\n",
        "plt.show()"
      ],
      "metadata": {
        "colab": {
          "base_uri": "https://localhost:8080/",
          "height": 295
        },
        "id": "fSAmWSZ4e_az",
        "outputId": "e6063e16-0bb1-4b2c-d294-a55f4a4a97c5"
      },
      "id": "fSAmWSZ4e_az",
      "execution_count": null,
      "outputs": [
        {
          "output_type": "display_data",
          "data": {
            "image/png": "[encoded data removed]",
            "text/plain": [
              "<Figure size 720x288 with 1 Axes>"
            ]
          },
          "metadata": {}
        }
      ]
    },
    {
      "cell_type": "markdown",
      "source": [
        "### Actionable insights:\n",
        "* Launch friend referral programs that encourage existing software users to refer their friends and get rewards. \n",
        "* Focus on IOS and mac operative system users when you are coming up with targeted audiences in your next marketing campaigns because they tend to see the highest conversion rates. \n",
        "* Lower price (\\$39 vs. \\$59) gets you better CVR, but we need to launch more experiments to determine the profitability. \n",
        "\n",
        "Other insights:\n",
        "* Source friend referral, IOS operative system,  mac operative system, source direct traffic, and low price are the top 5 great positive factors contributing to strong conversion rates. \n",
        "* If you want to increase price to \\$59, if your source is friend referral and your operative system is IOS, you can still reach a 4.2% conversion rate (note the overall CVR is only 1.8%. "
      ],
      "metadata": {
        "id": "3gAUeu7TzcgI"
      },
      "id": "3gAUeu7TzcgI"
    },
    {
      "cell_type": "markdown",
      "source": [
        "### Question 3: [Bonus] The VP of Product feels that the test has been running for too long and they should have been able to get statistically significant results in a shorter time. Do you agree with this? After how many days you would have stopped the test? Please, explain why."
      ],
      "metadata": {
        "id": "0IA-IDmshNz7"
      },
      "id": "0IA-IDmshNz7"
    },
    {
      "cell_type": "code",
      "source": [
        "df_clean.shape[0]"
      ],
      "metadata": {
        "id": "be7t9MBmgQ_w",
        "colab": {
          "base_uri": "https://localhost:8080/"
        },
        "outputId": "e88836bc-b903-4bb9-ef9e-e7d7f9218f20"
      },
      "id": "be7t9MBmgQ_w",
      "execution_count": 61,
      "outputs": [
        {
          "output_type": "execute_result",
          "data": {
            "text/plain": [
              "275294"
            ]
          },
          "metadata": {},
          "execution_count": 61
        }
      ]
    },
    {
      "cell_type": "code",
      "source": [
        "# calculate the baseline conversion rate\n",
        "df_clean.query('test == 0').converted.mean(), df_clean.query('test == 1').converted.mean()"
      ],
      "metadata": {
        "id": "y6qP-Zz3hVF5",
        "colab": {
          "base_uri": "https://localhost:8080/"
        },
        "outputId": "50819760-148a-4db5-af10-f0be2dc37da3"
      },
      "id": "y6qP-Zz3hVF5",
      "execution_count": 65,
      "outputs": [
        {
          "output_type": "execute_result",
          "data": {
            "text/plain": [
              "(0.01976838533598879, 0.015446276235954489)"
            ]
          },
          "metadata": {},
          "execution_count": 65
        }
      ]
    },
    {
      "cell_type": "code",
      "source": [
        "aggregations = {\n",
        "    'converted':{ # work on the \"Fare\" column\n",
        "       lambda value: value[df_clean['test'] == 0].mean(), ## control\n",
        "        lambda value: value[df_clean['test'] == 1].mean() ## test\n",
        "    },\n",
        "  \n",
        "    }\n",
        "\n",
        "df_day = df_clean.groupby('only_date').agg(aggregations).reset_index()"
      ],
      "metadata": {
        "id": "nCXWhDrvhBuL"
      },
      "id": "nCXWhDrvhBuL",
      "execution_count": 47,
      "outputs": []
    },
    {
      "cell_type": "code",
      "source": [
        "aggregations2 = {\n",
        "    'user_id':{ # work on the \"Fare\" column\n",
        "       lambda value: value[df_clean['test'] == 0].nunique(), ## control\n",
        "        lambda value: value[df_clean['test'] == 1].nunique() ## test\n",
        "    },\n",
        "  \n",
        "    }\n",
        "\n",
        "df_day_user = df_clean.groupby('only_date').agg(aggregations2).reset_index()"
      ],
      "metadata": {
        "id": "hxpg2Q_Q5z_V"
      },
      "id": "hxpg2Q_Q5z_V",
      "execution_count": 58,
      "outputs": []
    },
    {
      "cell_type": "code",
      "source": [
        "df_clean.query('test==0').converted.mean() , df_clean.query('test==1').converted.mean()"
      ],
      "metadata": {
        "id": "O_VuV8mblevr",
        "colab": {
          "base_uri": "https://localhost:8080/"
        },
        "outputId": "3537c6a1-1a44-4447-f026-a6719c00543b"
      },
      "id": "O_VuV8mblevr",
      "execution_count": 48,
      "outputs": [
        {
          "output_type": "execute_result",
          "data": {
            "text/plain": [
              "(0.01976838533598879, 0.015446276235954489)"
            ]
          },
          "metadata": {},
          "execution_count": 48
        }
      ]
    },
    {
      "cell_type": "code",
      "source": [
        "df_day_user.rename(columns={\"<lambda_0>\": \"control_user_ct\", \"<lambda_1>\": \"test_user_ct\"}, inplace=True)"
      ],
      "metadata": {
        "id": "-AED4FWZ6K9C"
      },
      "id": "-AED4FWZ6K9C",
      "execution_count": 62,
      "outputs": []
    },
    {
      "cell_type": "code",
      "source": [
        "df_day.rename(columns={\"<lambda_0>\": \"control\", \"<lambda_1>\": \"test\"}, inplace=True)"
      ],
      "metadata": {
        "id": "sU86uaabjhh4"
      },
      "id": "sU86uaabjhh4",
      "execution_count": 49,
      "outputs": []
    },
    {
      "cell_type": "code",
      "source": [
        "df_day.columns = [''.join(col).strip() for col in df_day.columns.values]"
      ],
      "metadata": {
        "id": "JQ3s4ZFpkRwV"
      },
      "id": "JQ3s4ZFpkRwV",
      "execution_count": 51,
      "outputs": []
    },
    {
      "cell_type": "code",
      "source": [
        "df_day"
      ],
      "metadata": {
        "colab": {
          "base_uri": "https://localhost:8080/",
          "height": 423
        },
        "id": "t1DkafOulNnO",
        "outputId": "adadb7b9-f458-4d7b-a2e0-5b2d92f0c108"
      },
      "id": "t1DkafOulNnO",
      "execution_count": 74,
      "outputs": [
        {
          "output_type": "execute_result",
          "data": {
            "text/html": [
              "\n",
              "  <div id=\"df-415bf211-890a-4a80-8792-4a2aee780283\">\n",
              "    <div class=\"colab-df-container\">\n",
              "      <div>\n",
              "<style scoped>\n",
              "    .dataframe tbody tr th:only-of-type {\n",
              "        vertical-align: middle;\n",
              "    }\n",
              "\n",
              "    .dataframe tbody tr th {\n",
              "        vertical-align: top;\n",
              "    }\n",
              "\n",
              "    .dataframe thead th {\n",
              "        text-align: right;\n",
              "    }\n",
              "</style>\n",
              "<table border=\"1\" class=\"dataframe\">\n",
              "  <thead>\n",
              "    <tr style=\"text-align: right;\">\n",
              "      <th></th>\n",
              "      <th>only_date</th>\n",
              "      <th>convertedcontrol</th>\n",
              "      <th>convertedtest</th>\n",
              "    </tr>\n",
              "  </thead>\n",
              "  <tbody>\n",
              "    <tr>\n",
              "      <th>0</th>\n",
              "      <td>2015-03-02</td>\n",
              "      <td>0.016988</td>\n",
              "      <td>0.015905</td>\n",
              "    </tr>\n",
              "    <tr>\n",
              "      <th>1</th>\n",
              "      <td>2015-03-03</td>\n",
              "      <td>0.023457</td>\n",
              "      <td>0.008016</td>\n",
              "    </tr>\n",
              "    <tr>\n",
              "      <th>2</th>\n",
              "      <td>2015-03-04</td>\n",
              "      <td>0.029056</td>\n",
              "      <td>0.007673</td>\n",
              "    </tr>\n",
              "    <tr>\n",
              "      <th>3</th>\n",
              "      <td>2015-03-05</td>\n",
              "      <td>0.026212</td>\n",
              "      <td>0.023230</td>\n",
              "    </tr>\n",
              "    <tr>\n",
              "      <th>4</th>\n",
              "      <td>2015-03-06</td>\n",
              "      <td>0.019274</td>\n",
              "      <td>0.018230</td>\n",
              "    </tr>\n",
              "    <tr>\n",
              "      <th>...</th>\n",
              "      <td>...</td>\n",
              "      <td>...</td>\n",
              "      <td>...</td>\n",
              "    </tr>\n",
              "    <tr>\n",
              "      <th>86</th>\n",
              "      <td>2015-05-27</td>\n",
              "      <td>0.025281</td>\n",
              "      <td>0.023364</td>\n",
              "    </tr>\n",
              "    <tr>\n",
              "      <th>87</th>\n",
              "      <td>2015-05-28</td>\n",
              "      <td>0.017311</td>\n",
              "      <td>0.028504</td>\n",
              "    </tr>\n",
              "    <tr>\n",
              "      <th>88</th>\n",
              "      <td>2015-05-29</td>\n",
              "      <td>0.019608</td>\n",
              "      <td>0.016216</td>\n",
              "    </tr>\n",
              "    <tr>\n",
              "      <th>89</th>\n",
              "      <td>2015-05-30</td>\n",
              "      <td>0.017295</td>\n",
              "      <td>0.016538</td>\n",
              "    </tr>\n",
              "    <tr>\n",
              "      <th>90</th>\n",
              "      <td>2015-05-31</td>\n",
              "      <td>0.025021</td>\n",
              "      <td>0.017228</td>\n",
              "    </tr>\n",
              "  </tbody>\n",
              "</table>\n",
              "<p>91 rows × 3 columns</p>\n",
              "</div>\n",
              "      <button class=\"colab-df-convert\" onclick=\"convertToInteractive('df-415bf211-890a-4a80-8792-4a2aee780283')\"\n",
              "              title=\"Convert this dataframe to an interactive table.\"\n",
              "              style=\"display:none;\">\n",
              "        \n",
              "  <svg xmlns=\"http://www.w3.org/2000/svg\" height=\"24px\"viewBox=\"0 0 24 24\"\n",
              "       width=\"24px\">\n",
              "    <path d=\"M0 0h24v24H0V0z\" fill=\"none\"/>\n",
              "    <path d=\"M18.56 5.44l.94 2.06.94-2.06 2.06-.94-2.06-.94-.94-2.06-.94 2.06-2.06.94zm-11 1L8.5 8.5l.94-2.06 2.06-.94-2.06-.94L8.5 2.5l-.94 2.06-2.06.94zm10 10l.94 2.06.94-2.06 2.06-.94-2.06-.94-.94-2.06-.94 2.06-2.06.94z\"/><path d=\"M17.41 7.96l-1.37-1.37c-.4-.4-.92-.59-1.43-.59-.52 0-1.04.2-1.43.59L10.3 9.45l-7.72 7.72c-.78.78-.78 2.05 0 2.83L4 21.41c.39.39.9.59 1.41.59.51 0 1.02-.2 1.41-.59l7.78-7.78 2.81-2.81c.8-.78.8-2.07 0-2.86zM5.41 20L4 18.59l7.72-7.72 1.47 1.35L5.41 20z\"/>\n",
              "  </svg>\n",
              "      </button>\n",
              "      \n",
              "  <style>\n",
              "    .colab-df-container {\n",
              "      display:flex;\n",
              "      flex-wrap:wrap;\n",
              "      gap: 12px;\n",
              "    }\n",
              "\n",
              "    .colab-df-convert {\n",
              "      background-color: #E8F0FE;\n",
              "      border: none;\n",
              "      border-radius: 50%;\n",
              "      cursor: pointer;\n",
              "      display: none;\n",
              "      fill: #1967D2;\n",
              "      height: 32px;\n",
              "      padding: 0 0 0 0;\n",
              "      width: 32px;\n",
              "    }\n",
              "\n",
              "    .colab-df-convert:hover {\n",
              "      background-color: #E2EBFA;\n",
              "      box-shadow: 0px 1px 2px rgba(60, 64, 67, 0.3), 0px 1px 3px 1px rgba(60, 64, 67, 0.15);\n",
              "      fill: #174EA6;\n",
              "    }\n",
              "\n",
              "    [theme=dark] .colab-df-convert {\n",
              "      background-color: #3B4455;\n",
              "      fill: #D2E3FC;\n",
              "    }\n",
              "\n",
              "    [theme=dark] .colab-df-convert:hover {\n",
              "      background-color: #434B5C;\n",
              "      box-shadow: 0px 1px 3px 1px rgba(0, 0, 0, 0.15);\n",
              "      filter: drop-shadow(0px 1px 2px rgba(0, 0, 0, 0.3));\n",
              "      fill: #FFFFFF;\n",
              "    }\n",
              "  </style>\n",
              "\n",
              "      <script>\n",
              "        const buttonEl =\n",
              "          document.querySelector('#df-415bf211-890a-4a80-8792-4a2aee780283 button.colab-df-convert');\n",
              "        buttonEl.style.display =\n",
              "          google.colab.kernel.accessAllowed ? 'block' : 'none';\n",
              "\n",
              "        async function convertToInteractive(key) {\n",
              "          const element = document.querySelector('#df-415bf211-890a-4a80-8792-4a2aee780283');\n",
              "          const dataTable =\n",
              "            await google.colab.kernel.invokeFunction('convertToInteractive',\n",
              "                                                     [key], {});\n",
              "          if (!dataTable) return;\n",
              "\n",
              "          const docLinkHtml = 'Like what you see? Visit the ' +\n",
              "            '<a target=\"_blank\" href=https://colab.research.google.com/notebooks/data_table.ipynb>data table notebook</a>'\n",
              "            + ' to learn more about interactive tables.';\n",
              "          element.innerHTML = '';\n",
              "          dataTable['output_type'] = 'display_data';\n",
              "          await google.colab.output.renderOutput(dataTable, element);\n",
              "          const docLink = document.createElement('div');\n",
              "          docLink.innerHTML = docLinkHtml;\n",
              "          element.appendChild(docLink);\n",
              "        }\n",
              "      </script>\n",
              "    </div>\n",
              "  </div>\n",
              "  "
            ],
            "text/plain": [
              "     only_date  convertedcontrol  convertedtest\n",
              "0   2015-03-02          0.016988       0.015905\n",
              "1   2015-03-03          0.023457       0.008016\n",
              "2   2015-03-04          0.029056       0.007673\n",
              "3   2015-03-05          0.026212       0.023230\n",
              "4   2015-03-06          0.019274       0.018230\n",
              "..         ...               ...            ...\n",
              "86  2015-05-27          0.025281       0.023364\n",
              "87  2015-05-28          0.017311       0.028504\n",
              "88  2015-05-29          0.019608       0.016216\n",
              "89  2015-05-30          0.017295       0.016538\n",
              "90  2015-05-31          0.025021       0.017228\n",
              "\n",
              "[91 rows x 3 columns]"
            ]
          },
          "metadata": {},
          "execution_count": 74
        }
      ]
    },
    {
      "cell_type": "code",
      "source": [
        "data_grouped_source = data.groupby(\"source\")[\"test\"].agg({\n",
        "\"frequency_test_0\": lambda x: len(x[x==0]), \n",
        "\"frequency_test_1\": lambda x: len(x[x==1])\n",
        "})\n",
        "    \n",
        "#get relative frequencies"
      ],
      "metadata": {
        "id": "QF334tNz878G"
      },
      "id": "QF334tNz878G",
      "execution_count": null,
      "outputs": []
    },
    {
      "cell_type": "code",
      "source": [
        "df_day_user.columns = [''.join(col).strip() for col in df_day_user.columns.values]"
      ],
      "metadata": {
        "id": "V_cnmq6o6YW3"
      },
      "id": "V_cnmq6o6YW3",
      "execution_count": 68,
      "outputs": []
    },
    {
      "cell_type": "code",
      "source": [
        "df_day_user.user_idcontrol_user_ct.sum()"
      ],
      "metadata": {
        "colab": {
          "base_uri": "https://localhost:8080/"
        },
        "id": "fx-M7TW38r47",
        "outputId": "63764347-a683-4bed-efc1-2d523e6c9992"
      },
      "id": "fx-M7TW38r47",
      "execution_count": 73,
      "outputs": [
        {
          "output_type": "execute_result",
          "data": {
            "text/plain": [
              "99053"
            ]
          },
          "metadata": {},
          "execution_count": 73
        }
      ]
    },
    {
      "cell_type": "code",
      "source": [
        "df_day_user.user_idtest_user_ct.sum()"
      ],
      "metadata": {
        "colab": {
          "base_uri": "https://localhost:8080/"
        },
        "id": "cceC205O9Sjp",
        "outputId": "6cf97217-acca-4129-ccaf-0035a3066e4f"
      },
      "id": "cceC205O9Sjp",
      "execution_count": 80,
      "outputs": [
        {
          "output_type": "execute_result",
          "data": {
            "text/plain": [
              "176241"
            ]
          },
          "metadata": {},
          "execution_count": 80
        }
      ]
    },
    {
      "cell_type": "code",
      "source": [
        "df.query('test == 1').user_id.count()"
      ],
      "metadata": {
        "colab": {
          "base_uri": "https://localhost:8080/"
        },
        "id": "BtH2Ia1388gx",
        "outputId": "a6ae838a-8783-4248-bef7-468ce907209d"
      },
      "id": "BtH2Ia1388gx",
      "execution_count": 79,
      "outputs": [
        {
          "output_type": "execute_result",
          "data": {
            "text/plain": [
              "114073"
            ]
          },
          "metadata": {},
          "execution_count": 79
        }
      ]
    },
    {
      "cell_type": "code",
      "source": [
        "\n",
        "# importing package\n",
        "import matplotlib.pyplot as plt\n",
        "import numpy as np\n",
        "  \n",
        "# create data\n",
        "y_ctrl = df_day['convertedcontrol']\n",
        "y_tst = df_day['convertedtest']\n",
        "x = df_day.only_date\n",
        "  \n",
        "# plot lines\n",
        "plt.plot(x, y_ctrl, label = \"ctrl_cvr\")\n",
        "plt.plot(x, y_tst, label = \"test_cvr\")\n",
        "plt.xticks(rotation = 45);\n",
        "plt.legend()\n",
        "plt.show()"
      ],
      "metadata": {
        "colab": {
          "base_uri": "https://localhost:8080/",
          "height": 303
        },
        "id": "CM2g4goPg7C4",
        "outputId": "69678658-8e9e-4c85-e689-bb02e19cd7db"
      },
      "id": "CM2g4goPg7C4",
      "execution_count": 55,
      "outputs": [
        {
          "output_type": "display_data",
          "data": {
            "image/png": "[encoded data removed]",
            "text/plain": [
              "<Figure size 432x288 with 1 Axes>"
            ]
          },
          "metadata": {
            "needs_background": "light"
          }
        }
      ]
    },
    {
      "cell_type": "markdown",
      "source": [
        "### I agree that the test has been running for too long for 91 days! \n",
        "* So far we have collected 176,241 user ids in the test variation and 99,053 user ids in the control variation. This sample size is enough for us to detect a change of 8.9%+ between test and control, meaning that if test and control's difference is smaller than this min detectable effect, we won't be able to generate stat sig learnings from the data. \n",
        "\n",
        "* That said, test and control's differences were actually quite big at 21%! We have collect sufficient evidence that test is doing worse than control. As a result, I suggest we shut off the experiment."
      ],
      "metadata": {
        "id": "qAnaGsRR5bx1"
      },
      "id": "qAnaGsRR5bx1"
    }
  ],
  "metadata": {
    "kernelspec": {
      "display_name": "Python 3",
      "language": "python",
      "name": "python3"
    },
    "language_info": {
      "codemirror_mode": {
        "name": "ipython",
        "version": 3
      },
      "file_extension": ".py",
      "mimetype": "text/x-python",
      "name": "python",
      "nbconvert_exporter": "python",
      "pygments_lexer": "ipython3",
      "version": "3.7.9"
    },
    "colab": {
      "name": "DS_Takehome_Challenges_ABTesting_PricingTest.ipynb",
      "provenance": []
    }
  },
  "nbformat": 4,
  "nbformat_minor": 5
}